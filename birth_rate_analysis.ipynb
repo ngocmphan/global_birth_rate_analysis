{
 "cells": [
  {
   "attachments": {},
   "cell_type": "markdown",
   "metadata": {},
   "source": [
    "# Global birth rate analysis"
   ]
  },
  {
   "attachments": {},
   "cell_type": "markdown",
   "metadata": {},
   "source": [
    "Birth rate by country and the global birth rate will be analyzed under the impacts of the following factors: \n",
    "- Financial: GDP per Capita\n",
    "- Social: Happiness index, Social support score, life expectancy, freedom to make life choices, generosity,perception of corruption\n",
    "- Jobs: Unemployment rate"
   ]
  },
  {
   "cell_type": "code",
   "execution_count": 80,
   "metadata": {},
   "outputs": [],
   "source": [
    "import pandas as pd\n",
    "import numpy as np\n",
    "from sklearn.model_selection import train_test_split\n",
    "from sklearn import linear_model\n",
    "from scipy import stats\n",
    "import statsmodels.api as sm"
   ]
  },
  {
   "attachments": {},
   "cell_type": "markdown",
   "metadata": {},
   "source": [
    "## Data Import & Data Preparation"
   ]
  },
  {
   "cell_type": "code",
   "execution_count": 51,
   "metadata": {},
   "outputs": [],
   "source": [
    "# Data import\n",
    "df_birth_rate = pd.read_csv(\"birth_rate.csv\")\n",
    "df_gdp = pd.read_csv(\"GDP.csv\")\n",
    "df_happiness_index = pd.read_excel(\"DataForFigure2.1WHR2023.xls\")\n",
    "df_unemployment_rate = pd.read_csv('unemployment_rate.csv')\n"
   ]
  },
  {
   "cell_type": "code",
   "execution_count": 52,
   "metadata": {},
   "outputs": [],
   "source": [
    "# Drop duplicates & rename columns\n",
    "df_birth_rate = df_birth_rate.rename({'country': 'Country'}, axis='columns')\n",
    "df_gdp = df_gdp.drop_duplicates(subset='country', keep='first')\n",
    "df_gdp = df_gdp.rename({'country': 'Country'}, axis='columns')\n",
    "df_happiness_index = df_happiness_index.rename({'Country name': 'Country'},\n",
    "                                               axis='columns')\n",
    "df_unemployment_rate = df_unemployment_rate.rename({'country': 'Country'},\n",
    "                                                    axis='columns')\n"
   ]
  },
  {
   "cell_type": "code",
   "execution_count": 53,
   "metadata": {},
   "outputs": [],
   "source": [
    "# Preliminary variable selection\n",
    "df_birth_rate = df_birth_rate[['birthRate', 'Country']]\n",
    "df_gdp = df_gdp[['Country', 'gdpPerCapita']]\n",
    "df_happiness_index = df_happiness_index[['Country', 'Ladder score', 'Social support', \n",
    "                                         'Healthy life expectancy',\n",
    "                                         'Freedom to make life choices', \n",
    "                                         'Generosity', 'Perceptions of corruption']]\n",
    "df_unemployment_rate = df_unemployment_rate[['Country', 'rateWb']]"
   ]
  },
  {
   "cell_type": "code",
   "execution_count": 54,
   "metadata": {},
   "outputs": [
    {
     "data": {
      "text/plain": [
       "Index(['birthRate', 'Country', 'gdpPerCapita', 'Ladder score',\n",
       "       'Social support', 'Healthy life expectancy',\n",
       "       'Freedom to make life choices', 'Generosity',\n",
       "       'Perceptions of corruption', 'rateWb'],\n",
       "      dtype='object')"
      ]
     },
     "execution_count": 54,
     "metadata": {},
     "output_type": "execute_result"
    }
   ],
   "source": [
    "# Main data frame preparation\n",
    "df_final = df_birth_rate.merge(df_gdp,\n",
    "                                on='Country').merge(df_happiness_index,\n",
    "                                                     on='Country').merge(df_unemployment_rate, on='Country')\n",
    "df_final.columns"
   ]
  },
  {
   "cell_type": "code",
   "execution_count": 55,
   "metadata": {},
   "outputs": [],
   "source": [
    "df_final[['gdpPerCapita', 'Social support', 'Freedom to make life choices', 'Generosity', 'Perceptions of corruption']] = df_final[['gdpPerCapita', 'Social support', 'Freedom to make life choices', 'Generosity', 'Perceptions of corruption']]*100"
   ]
  },
  {
   "cell_type": "code",
   "execution_count": 56,
   "metadata": {},
   "outputs": [],
   "source": [
    "df_final.loc[128,'rateWb'] = 3.56"
   ]
  },
  {
   "cell_type": "code",
   "execution_count": 57,
   "metadata": {},
   "outputs": [],
   "source": [
    "# Data partition\n",
    "df_predictors = df_final[['gdpPerCapita', 'Ladder score', 'Social support', \n",
    "                          'Healthy life expectancy', 'Freedom to make life choices',\n",
    "                          'Generosity', 'Perceptions of corruption', 'rateWb']]\n",
    "df_target = df_final['birthRate']\n",
    "\n",
    "x_train, x_test, y_train, y_test = train_test_split(df_predictors,df_target,test_size=0.25)\n"
   ]
  },
  {
   "attachments": {},
   "cell_type": "markdown",
   "metadata": {},
   "source": [
    "## Model Fit & Model result"
   ]
  },
  {
   "cell_type": "markdown",
   "metadata": {},
   "source": []
  },
  {
   "cell_type": "code",
   "execution_count": 58,
   "metadata": {},
   "outputs": [],
   "source": [
    "model = linear_model.LinearRegression()"
   ]
  },
  {
   "cell_type": "code",
   "execution_count": 59,
   "metadata": {},
   "outputs": [
    {
     "data": {
      "text/html": [
       "<style>#sk-container-id-2 {color: black;background-color: white;}#sk-container-id-2 pre{padding: 0;}#sk-container-id-2 div.sk-toggleable {background-color: white;}#sk-container-id-2 label.sk-toggleable__label {cursor: pointer;display: block;width: 100%;margin-bottom: 0;padding: 0.3em;box-sizing: border-box;text-align: center;}#sk-container-id-2 label.sk-toggleable__label-arrow:before {content: \"▸\";float: left;margin-right: 0.25em;color: #696969;}#sk-container-id-2 label.sk-toggleable__label-arrow:hover:before {color: black;}#sk-container-id-2 div.sk-estimator:hover label.sk-toggleable__label-arrow:before {color: black;}#sk-container-id-2 div.sk-toggleable__content {max-height: 0;max-width: 0;overflow: hidden;text-align: left;background-color: #f0f8ff;}#sk-container-id-2 div.sk-toggleable__content pre {margin: 0.2em;color: black;border-radius: 0.25em;background-color: #f0f8ff;}#sk-container-id-2 input.sk-toggleable__control:checked~div.sk-toggleable__content {max-height: 200px;max-width: 100%;overflow: auto;}#sk-container-id-2 input.sk-toggleable__control:checked~label.sk-toggleable__label-arrow:before {content: \"▾\";}#sk-container-id-2 div.sk-estimator input.sk-toggleable__control:checked~label.sk-toggleable__label {background-color: #d4ebff;}#sk-container-id-2 div.sk-label input.sk-toggleable__control:checked~label.sk-toggleable__label {background-color: #d4ebff;}#sk-container-id-2 input.sk-hidden--visually {border: 0;clip: rect(1px 1px 1px 1px);clip: rect(1px, 1px, 1px, 1px);height: 1px;margin: -1px;overflow: hidden;padding: 0;position: absolute;width: 1px;}#sk-container-id-2 div.sk-estimator {font-family: monospace;background-color: #f0f8ff;border: 1px dotted black;border-radius: 0.25em;box-sizing: border-box;margin-bottom: 0.5em;}#sk-container-id-2 div.sk-estimator:hover {background-color: #d4ebff;}#sk-container-id-2 div.sk-parallel-item::after {content: \"\";width: 100%;border-bottom: 1px solid gray;flex-grow: 1;}#sk-container-id-2 div.sk-label:hover label.sk-toggleable__label {background-color: #d4ebff;}#sk-container-id-2 div.sk-serial::before {content: \"\";position: absolute;border-left: 1px solid gray;box-sizing: border-box;top: 0;bottom: 0;left: 50%;z-index: 0;}#sk-container-id-2 div.sk-serial {display: flex;flex-direction: column;align-items: center;background-color: white;padding-right: 0.2em;padding-left: 0.2em;position: relative;}#sk-container-id-2 div.sk-item {position: relative;z-index: 1;}#sk-container-id-2 div.sk-parallel {display: flex;align-items: stretch;justify-content: center;background-color: white;position: relative;}#sk-container-id-2 div.sk-item::before, #sk-container-id-2 div.sk-parallel-item::before {content: \"\";position: absolute;border-left: 1px solid gray;box-sizing: border-box;top: 0;bottom: 0;left: 50%;z-index: -1;}#sk-container-id-2 div.sk-parallel-item {display: flex;flex-direction: column;z-index: 1;position: relative;background-color: white;}#sk-container-id-2 div.sk-parallel-item:first-child::after {align-self: flex-end;width: 50%;}#sk-container-id-2 div.sk-parallel-item:last-child::after {align-self: flex-start;width: 50%;}#sk-container-id-2 div.sk-parallel-item:only-child::after {width: 0;}#sk-container-id-2 div.sk-dashed-wrapped {border: 1px dashed gray;margin: 0 0.4em 0.5em 0.4em;box-sizing: border-box;padding-bottom: 0.4em;background-color: white;}#sk-container-id-2 div.sk-label label {font-family: monospace;font-weight: bold;display: inline-block;line-height: 1.2em;}#sk-container-id-2 div.sk-label-container {text-align: center;}#sk-container-id-2 div.sk-container {/* jupyter's `normalize.less` sets `[hidden] { display: none; }` but bootstrap.min.css set `[hidden] { display: none !important; }` so we also need the `!important` here to be able to override the default hidden behavior on the sphinx rendered scikit-learn.org. See: https://github.com/scikit-learn/scikit-learn/issues/21755 */display: inline-block !important;position: relative;}#sk-container-id-2 div.sk-text-repr-fallback {display: none;}</style><div id=\"sk-container-id-2\" class=\"sk-top-container\"><div class=\"sk-text-repr-fallback\"><pre>LinearRegression()</pre><b>In a Jupyter environment, please rerun this cell to show the HTML representation or trust the notebook. <br />On GitHub, the HTML representation is unable to render, please try loading this page with nbviewer.org.</b></div><div class=\"sk-container\" hidden><div class=\"sk-item\"><div class=\"sk-estimator sk-toggleable\"><input class=\"sk-toggleable__control sk-hidden--visually\" id=\"sk-estimator-id-2\" type=\"checkbox\" checked><label for=\"sk-estimator-id-2\" class=\"sk-toggleable__label sk-toggleable__label-arrow\">LinearRegression</label><div class=\"sk-toggleable__content\"><pre>LinearRegression()</pre></div></div></div></div></div>"
      ],
      "text/plain": [
       "LinearRegression()"
      ]
     },
     "execution_count": 59,
     "metadata": {},
     "output_type": "execute_result"
    }
   ],
   "source": [
    "model.fit(x_train,y_train)"
   ]
  },
  {
   "cell_type": "code",
   "execution_count": 60,
   "metadata": {},
   "outputs": [],
   "source": [
    "# birth_rate fitted and birth_rate prediction\n",
    "y_fitted = model.predict(x_train)\n",
    "y_predict = model.predict(x_test)"
   ]
  },
  {
   "cell_type": "code",
   "execution_count": 61,
   "metadata": {},
   "outputs": [],
   "source": [
    "# residuals from train & test\n",
    "residuals_train = y_train - y_fitted\n",
    "residuals_test = y_test - y_predict"
   ]
  },
  {
   "cell_type": "code",
   "execution_count": 62,
   "metadata": {},
   "outputs": [
    {
     "data": {
      "text/plain": [
       "array([ 2.32039765e-07, -8.22943908e-01, -8.99597281e-02, -1.32327391e+00,\n",
       "       -1.88030135e-02, -1.07109233e-02, -4.58469291e-02, -2.32136034e-01])"
      ]
     },
     "execution_count": 62,
     "metadata": {},
     "output_type": "execute_result"
    }
   ],
   "source": [
    "# Coefficients\n",
    "coef_gdp = model.coef_[0]\n",
    "coef_happiness_index = model.coef_[1]\n",
    "coef_social_support = model.coef_[2]\n",
    "coef_life_expectancy = model.coef_[3]\n",
    "coef_freedom = model.coef_[4]\n",
    "coef_generosity = model.coef_[5]\n",
    "coef_corruption = model.coef_[6]\n",
    "coef_unemployment = model.coef_[7]\n",
    "intercept = model.intercept_\n",
    "model.coef_"
   ]
  },
  {
   "cell_type": "code",
   "execution_count": 64,
   "metadata": {},
   "outputs": [
    {
     "name": "stdout",
     "output_type": "stream",
     "text": [
      "model = 122.412560 + 0.000000 GDP -0.822944 Happiness index  -0.089960 Social support -1.323274 life expectancy  -0.018803 freedom  -0.010711 generosity  -0.045847 corruption  -0.232136 Unemployment\n"
     ]
    }
   ],
   "source": [
    "print('model = %f + %f GDP %f Happiness index  %f Social support %f life expectancy  %f freedom  %f generosity  %f corruption  %f Unemployment' % (intercept, coef_gdp, coef_happiness_index, coef_social_support, coef_life_expectancy, coef_freedom, coef_generosity, coef_corruption, coef_unemployment))"
   ]
  },
  {
   "cell_type": "code",
   "execution_count": 83,
   "metadata": {},
   "outputs": [],
   "source": [
    "stats_model = sm.OLS(y_train, x_train).fit()"
   ]
  },
  {
   "attachments": {},
   "cell_type": "markdown",
   "metadata": {},
   "source": [
    "## Model & Predictors Evaluation"
   ]
  },
  {
   "attachments": {},
   "cell_type": "markdown",
   "metadata": {},
   "source": []
  },
  {
   "cell_type": "code",
   "execution_count": 86,
   "metadata": {},
   "outputs": [],
   "source": [
    "def model_significance(y_train_set, y_pred, p):\n",
    "    y_mean = np.mean(y_train_set)\n",
    "    tss = ((y_train_set - y_mean)**2).sum()\n",
    "    rss = ((y_train_set - y_pred)**2).sum()\n",
    "    n = len(y_train_set)\n",
    "    f_test = (tss-rss)/(rss/(n-p-1))\n",
    "    if f_test > 1:\n",
    "        print(\"Reject Ho. At least one of the model coefficients is significant.\")\n",
    "    if f_test <=1: \n",
    "        print(\"Accept Ho. No coefficients are useful.\")\n",
    "\n",
    "\n",
    "def coefficient_testing(coeff, residuals, trainset,p):\n",
    "    \"\"\"Perform Hypothesis testing to determine if Coefficient in regression is significant\"\"\"\n",
    "    # Obtain the residual standard deviation\n",
    "    residual_variance = np.var(residuals)\n",
    "    x_mean = np.mean(trainset)\n",
    "    x_squared = ((trainset - x_mean)**2).sum()\n",
    "    coeff_var = residual_variance/ x_squared\n",
    "    coeff_std = np.sqrt(coeff_var)\n",
    "    print(\"coeff_var, std:\",coeff_var, coeff_std)\n",
    "    # Obtain t test\n",
    "    print(\"Hypothesis: Ho: B1 = 0, Ha: B1 !=0\")\n",
    "    t_value = coeff/coeff_std\n",
    "    print(\"t_value:\", t_value)\n",
    "    degree_of_freedom = len(trainset) - p -1\n",
    "    p_value = stats.t.sf(abs(t_value), degree_of_freedom)*2\n",
    "    print (\"p_value: %.24f\" % p_value)\n",
    "    # Conclusion:\n",
    "    if p_value*2 < 0.05:\n",
    "        print('Reject Ho. The coefficient is significant, and has a relationship with the respond variable')\n",
    "    if p_value*2 > 0.05: \n",
    "        print('Accept Ho. The coefficient is not significant, and does not have a relationship with respond variable')\n",
    "    return None\n",
    "\n",
    "\n",
    "def residual_zero_mean(residuals,p):\n",
    "    n = len(residuals)\n",
    "    residual_mean = np.mean(residuals)\n",
    "    residual_std = np.std(residuals)\n",
    "    t_test = (residual_mean)/(residual_std/np.sqrt(n))\n",
    "    p_value = stats.t.sf(t_test, n - p - 1)\n",
    "    if p_value > 0.05:\n",
    "        print(\"As the p_value is larger than 0.05, there is no sufficient evidence to reject Ho. From this, residuals mean is equal to 0. Linear regression assumption on residuals is appropriate.\")\n",
    "    elif p_value <= 0.05: \n",
    "        print(\"As p_value is smaller than 0.95, there is sufficient evidence to reject Ho. Thus zero mean assumption is not appropriate.\")"
   ]
  },
  {
   "attachments": {},
   "cell_type": "markdown",
   "metadata": {},
   "source": [
    "### Model Evaluation"
   ]
  },
  {
   "cell_type": "code",
   "execution_count": 66,
   "metadata": {},
   "outputs": [
    {
     "name": "stdout",
     "output_type": "stream",
     "text": [
      "Reject Ho. At least one of the model coefficients is significant.\n"
     ]
    }
   ],
   "source": [
    "# Model evaluation - F test\n",
    "model_significance(y_train, y_fitted, 8)"
   ]
  },
  {
   "attachments": {},
   "cell_type": "markdown",
   "metadata": {},
   "source": [
    "### Coefficient evaluation\n"
   ]
  },
  {
   "cell_type": "code",
   "execution_count": 85,
   "metadata": {},
   "outputs": [
    {
     "data": {
      "text/html": [
       "<table class=\"simpletable\">\n",
       "<caption>OLS Regression Results</caption>\n",
       "<tr>\n",
       "  <th>Dep. Variable:</th>        <td>birthRate</td>    <th>  R-squared (uncentered):</th>      <td>   0.844</td>\n",
       "</tr>\n",
       "<tr>\n",
       "  <th>Model:</th>                   <td>OLS</td>       <th>  Adj. R-squared (uncentered):</th> <td>   0.830</td>\n",
       "</tr>\n",
       "<tr>\n",
       "  <th>Method:</th>             <td>Least Squares</td>  <th>  F-statistic:       </th>          <td>   60.67</td>\n",
       "</tr>\n",
       "<tr>\n",
       "  <th>Date:</th>             <td>Fri, 05 May 2023</td> <th>  Prob (F-statistic):</th>          <td>5.83e-33</td>\n",
       "</tr>\n",
       "<tr>\n",
       "  <th>Time:</th>                 <td>14:59:57</td>     <th>  Log-Likelihood:    </th>          <td> -345.94</td>\n",
       "</tr>\n",
       "<tr>\n",
       "  <th>No. Observations:</th>      <td>    98</td>      <th>  AIC:               </th>          <td>   707.9</td>\n",
       "</tr>\n",
       "<tr>\n",
       "  <th>Df Residuals:</th>          <td>    90</td>      <th>  BIC:               </th>          <td>   728.6</td>\n",
       "</tr>\n",
       "<tr>\n",
       "  <th>Df Model:</th>              <td>     8</td>      <th>                     </th>              <td> </td>   \n",
       "</tr>\n",
       "<tr>\n",
       "  <th>Covariance Type:</th>      <td>nonrobust</td>    <th>                     </th>              <td> </td>   \n",
       "</tr>\n",
       "</table>\n",
       "<table class=\"simpletable\">\n",
       "<tr>\n",
       "                <td></td>                  <th>coef</th>     <th>std err</th>      <th>t</th>      <th>P>|t|</th>  <th>[0.025</th>    <th>0.975]</th>  \n",
       "</tr>\n",
       "<tr>\n",
       "  <th>gdpPerCapita</th>                 <td>-1.185e-07</td> <td> 6.65e-07</td> <td>   -0.178</td> <td> 0.859</td> <td>-1.44e-06</td> <td>  1.2e-06</td>\n",
       "</tr>\n",
       "<tr>\n",
       "  <th>Ladder score</th>                 <td>   -2.7697</td> <td>    1.962</td> <td>   -1.412</td> <td> 0.161</td> <td>   -6.667</td> <td>    1.128</td>\n",
       "</tr>\n",
       "<tr>\n",
       "  <th>Social support</th>               <td>   -0.3744</td> <td>    0.142</td> <td>   -2.630</td> <td> 0.010</td> <td>   -0.657</td> <td>   -0.092</td>\n",
       "</tr>\n",
       "<tr>\n",
       "  <th>Healthy life expectancy</th>      <td>    0.3740</td> <td>    0.173</td> <td>    2.168</td> <td> 0.033</td> <td>    0.031</td> <td>    0.717</td>\n",
       "</tr>\n",
       "<tr>\n",
       "  <th>Freedom to make life choices</th> <td>    0.3082</td> <td>    0.113</td> <td>    2.723</td> <td> 0.008</td> <td>    0.083</td> <td>    0.533</td>\n",
       "</tr>\n",
       "<tr>\n",
       "  <th>Generosity</th>                   <td>    0.1270</td> <td>    0.068</td> <td>    1.855</td> <td> 0.067</td> <td>   -0.009</td> <td>    0.263</td>\n",
       "</tr>\n",
       "<tr>\n",
       "  <th>Perceptions of corruption</th>    <td>    0.1992</td> <td>    0.072</td> <td>    2.750</td> <td> 0.007</td> <td>    0.055</td> <td>    0.343</td>\n",
       "</tr>\n",
       "<tr>\n",
       "  <th>rateWb</th>                       <td>    0.0256</td> <td>    0.189</td> <td>    0.136</td> <td> 0.892</td> <td>   -0.350</td> <td>    0.401</td>\n",
       "</tr>\n",
       "</table>\n",
       "<table class=\"simpletable\">\n",
       "<tr>\n",
       "  <th>Omnibus:</th>       <td> 3.510</td> <th>  Durbin-Watson:     </th> <td>   2.034</td>\n",
       "</tr>\n",
       "<tr>\n",
       "  <th>Prob(Omnibus):</th> <td> 0.173</td> <th>  Jarque-Bera (JB):  </th> <td>   3.355</td>\n",
       "</tr>\n",
       "<tr>\n",
       "  <th>Skew:</th>          <td> 0.451</td> <th>  Prob(JB):          </th> <td>   0.187</td>\n",
       "</tr>\n",
       "<tr>\n",
       "  <th>Kurtosis:</th>      <td> 2.909</td> <th>  Cond. No.          </th> <td>7.33e+06</td>\n",
       "</tr>\n",
       "</table><br/><br/>Notes:<br/>[1] R² is computed without centering (uncentered) since the model does not contain a constant.<br/>[2] Standard Errors assume that the covariance matrix of the errors is correctly specified.<br/>[3] The condition number is large, 7.33e+06. This might indicate that there are<br/>strong multicollinearity or other numerical problems."
      ],
      "text/latex": [
       "\\begin{center}\n",
       "\\begin{tabular}{lclc}\n",
       "\\toprule\n",
       "\\textbf{Dep. Variable:}               &    birthRate     & \\textbf{  R-squared (uncentered):}      &     0.844   \\\\\n",
       "\\textbf{Model:}                       &       OLS        & \\textbf{  Adj. R-squared (uncentered):} &     0.830   \\\\\n",
       "\\textbf{Method:}                      &  Least Squares   & \\textbf{  F-statistic:       }          &     60.67   \\\\\n",
       "\\textbf{Date:}                        & Fri, 05 May 2023 & \\textbf{  Prob (F-statistic):}          &  5.83e-33   \\\\\n",
       "\\textbf{Time:}                        &     14:59:57     & \\textbf{  Log-Likelihood:    }          &   -345.94   \\\\\n",
       "\\textbf{No. Observations:}            &          98      & \\textbf{  AIC:               }          &     707.9   \\\\\n",
       "\\textbf{Df Residuals:}                &          90      & \\textbf{  BIC:               }          &     728.6   \\\\\n",
       "\\textbf{Df Model:}                    &           8      & \\textbf{                     }          &             \\\\\n",
       "\\textbf{Covariance Type:}             &    nonrobust     & \\textbf{                     }          &             \\\\\n",
       "\\bottomrule\n",
       "\\end{tabular}\n",
       "\\begin{tabular}{lcccccc}\n",
       "                                      & \\textbf{coef} & \\textbf{std err} & \\textbf{t} & \\textbf{P$> |$t$|$} & \\textbf{[0.025} & \\textbf{0.975]}  \\\\\n",
       "\\midrule\n",
       "\\textbf{gdpPerCapita}                 &   -1.185e-07  &     6.65e-07     &    -0.178  &         0.859        &    -1.44e-06    &      1.2e-06     \\\\\n",
       "\\textbf{Ladder score}                 &      -2.7697  &        1.962     &    -1.412  &         0.161        &       -6.667    &        1.128     \\\\\n",
       "\\textbf{Social support}               &      -0.3744  &        0.142     &    -2.630  &         0.010        &       -0.657    &       -0.092     \\\\\n",
       "\\textbf{Healthy life expectancy}      &       0.3740  &        0.173     &     2.168  &         0.033        &        0.031    &        0.717     \\\\\n",
       "\\textbf{Freedom to make life choices} &       0.3082  &        0.113     &     2.723  &         0.008        &        0.083    &        0.533     \\\\\n",
       "\\textbf{Generosity}                   &       0.1270  &        0.068     &     1.855  &         0.067        &       -0.009    &        0.263     \\\\\n",
       "\\textbf{Perceptions of corruption}    &       0.1992  &        0.072     &     2.750  &         0.007        &        0.055    &        0.343     \\\\\n",
       "\\textbf{rateWb}                       &       0.0256  &        0.189     &     0.136  &         0.892        &       -0.350    &        0.401     \\\\\n",
       "\\bottomrule\n",
       "\\end{tabular}\n",
       "\\begin{tabular}{lclc}\n",
       "\\textbf{Omnibus:}       &  3.510 & \\textbf{  Durbin-Watson:     } &    2.034  \\\\\n",
       "\\textbf{Prob(Omnibus):} &  0.173 & \\textbf{  Jarque-Bera (JB):  } &    3.355  \\\\\n",
       "\\textbf{Skew:}          &  0.451 & \\textbf{  Prob(JB):          } &    0.187  \\\\\n",
       "\\textbf{Kurtosis:}      &  2.909 & \\textbf{  Cond. No.          } & 7.33e+06  \\\\\n",
       "\\bottomrule\n",
       "\\end{tabular}\n",
       "%\\caption{OLS Regression Results}\n",
       "\\end{center}\n",
       "\n",
       "Notes: \\newline\n",
       " [1] R² is computed without centering (uncentered) since the model does not contain a constant. \\newline\n",
       " [2] Standard Errors assume that the covariance matrix of the errors is correctly specified. \\newline\n",
       " [3] The condition number is large, 7.33e+06. This might indicate that there are \\newline\n",
       " strong multicollinearity or other numerical problems."
      ],
      "text/plain": [
       "<class 'statsmodels.iolib.summary.Summary'>\n",
       "\"\"\"\n",
       "                                 OLS Regression Results                                \n",
       "=======================================================================================\n",
       "Dep. Variable:              birthRate   R-squared (uncentered):                   0.844\n",
       "Model:                            OLS   Adj. R-squared (uncentered):              0.830\n",
       "Method:                 Least Squares   F-statistic:                              60.67\n",
       "Date:                Fri, 05 May 2023   Prob (F-statistic):                    5.83e-33\n",
       "Time:                        14:59:57   Log-Likelihood:                         -345.94\n",
       "No. Observations:                  98   AIC:                                      707.9\n",
       "Df Residuals:                      90   BIC:                                      728.6\n",
       "Df Model:                           8                                                  \n",
       "Covariance Type:            nonrobust                                                  \n",
       "================================================================================================\n",
       "                                   coef    std err          t      P>|t|      [0.025      0.975]\n",
       "------------------------------------------------------------------------------------------------\n",
       "gdpPerCapita                 -1.185e-07   6.65e-07     -0.178      0.859   -1.44e-06     1.2e-06\n",
       "Ladder score                    -2.7697      1.962     -1.412      0.161      -6.667       1.128\n",
       "Social support                  -0.3744      0.142     -2.630      0.010      -0.657      -0.092\n",
       "Healthy life expectancy          0.3740      0.173      2.168      0.033       0.031       0.717\n",
       "Freedom to make life choices     0.3082      0.113      2.723      0.008       0.083       0.533\n",
       "Generosity                       0.1270      0.068      1.855      0.067      -0.009       0.263\n",
       "Perceptions of corruption        0.1992      0.072      2.750      0.007       0.055       0.343\n",
       "rateWb                           0.0256      0.189      0.136      0.892      -0.350       0.401\n",
       "==============================================================================\n",
       "Omnibus:                        3.510   Durbin-Watson:                   2.034\n",
       "Prob(Omnibus):                  0.173   Jarque-Bera (JB):                3.355\n",
       "Skew:                           0.451   Prob(JB):                        0.187\n",
       "Kurtosis:                       2.909   Cond. No.                     7.33e+06\n",
       "==============================================================================\n",
       "\n",
       "Notes:\n",
       "[1] R² is computed without centering (uncentered) since the model does not contain a constant.\n",
       "[2] Standard Errors assume that the covariance matrix of the errors is correctly specified.\n",
       "[3] The condition number is large, 7.33e+06. This might indicate that there are\n",
       "strong multicollinearity or other numerical problems.\n",
       "\"\"\""
      ]
     },
     "execution_count": 85,
     "metadata": {},
     "output_type": "execute_result"
    }
   ],
   "source": [
    "stats_model.summary()"
   ]
  },
  {
   "cell_type": "code",
   "execution_count": 88,
   "metadata": {},
   "outputs": [
    {
     "name": "stdout",
     "output_type": "stream",
     "text": [
      "coeff_var, std: 3.552010617084641e-14 1.884677854988656e-07\n",
      "Hypothesis: Ho: B1 = 0, Ha: B1 !=0\n",
      "t_value: 1.2311905969703867\n",
      "p_value: 0.221495165463667043059814\n",
      "Accept Ho. The coefficient is not significant, and does not have a relationship with respond variable\n"
     ]
    }
   ],
   "source": [
    "# GDP coefficient\n",
    "coefficient_testing(coef_gdp, residuals_train, x_train['gdpPerCapita'],8)"
   ]
  },
  {
   "cell_type": "code",
   "execution_count": 89,
   "metadata": {},
   "outputs": [
    {
     "name": "stdout",
     "output_type": "stream",
     "text": [
      "coeff_var, std: 0.16838506971241882 0.41034749872811316\n",
      "Hypothesis: Ho: B1 = 0, Ha: B1 !=0\n",
      "t_value: -2.005480502530947\n",
      "p_value: 0.047949139965001372210018\n",
      "Accept Ho. The coefficient is not significant, and does not have a relationship with respond variable\n"
     ]
    }
   ],
   "source": [
    "# Happiness index\n",
    "coefficient_testing(coef_happiness_index, residuals_train, x_train['Ladder score'], 8)"
   ]
  },
  {
   "cell_type": "code",
   "execution_count": 90,
   "metadata": {},
   "outputs": [
    {
     "name": "stdout",
     "output_type": "stream",
     "text": [
      "coeff_var, std: 0.0012617560464571768 0.03552120558845345\n",
      "Hypothesis: Ho: B1 = 0, Ha: B1 !=0\n",
      "t_value: -2.532564044164085\n",
      "p_value: 0.013075905674820909735390\n",
      "Reject Ho. The coefficient is significant, and has a relationship with the respond variable\n"
     ]
    }
   ],
   "source": [
    "# Social support\n",
    "coefficient_testing(coef_social_support, residuals_train, x_train['Social support'],8)"
   ]
  },
  {
   "cell_type": "code",
   "execution_count": 91,
   "metadata": {},
   "outputs": [
    {
     "name": "stdout",
     "output_type": "stream",
     "text": [
      "coeff_var, std: 0.0072340563213693825 0.08505325579523328\n",
      "Hypothesis: Ho: B1 = 0, Ha: B1 !=0\n",
      "t_value: -15.55818059238335\n",
      "p_value: 0.000000000000000000000000\n",
      "Reject Ho. The coefficient is significant, and has a relationship with the respond variable\n"
     ]
    }
   ],
   "source": [
    "# Healthy life expectancy\n",
    "coefficient_testing(coef_life_expectancy, residuals_train, x_train['Healthy life expectancy'], 8)"
   ]
  },
  {
   "cell_type": "code",
   "execution_count": 92,
   "metadata": {},
   "outputs": [
    {
     "name": "stdout",
     "output_type": "stream",
     "text": [
      "coeff_var, std: 0.001961363049456264 0.044287278641346475\n",
      "Hypothesis: Ho: B1 = 0, Ha: B1 !=0\n",
      "t_value: -0.4245691793203524\n",
      "p_value: 0.672175370815218498066201\n",
      "Accept Ho. The coefficient is not significant, and does not have a relationship with respond variable\n"
     ]
    }
   ],
   "source": [
    "# Freedom to make life choices\n",
    "coefficient_testing(coef_freedom, residuals_train, x_train['Freedom to make life choices'], 8)"
   ]
  },
  {
   "cell_type": "code",
   "execution_count": 93,
   "metadata": {},
   "outputs": [
    {
     "name": "stdout",
     "output_type": "stream",
     "text": [
      "coeff_var, std: 0.001102431530123563 0.03320288436451814\n",
      "Hypothesis: Ho: B1 = 0, Ha: B1 !=0\n",
      "t_value: -0.32259014473863584\n",
      "p_value: 0.747762261755753110392675\n",
      "Accept Ho. The coefficient is not significant, and does not have a relationship with respond variable\n"
     ]
    }
   ],
   "source": [
    "# Generosity\n",
    "coefficient_testing(coef_generosity, residuals_train, x_train['Generosity'], 8)"
   ]
  },
  {
   "cell_type": "code",
   "execution_count": 94,
   "metadata": {},
   "outputs": [
    {
     "name": "stdout",
     "output_type": "stream",
     "text": [
      "coeff_var, std: 0.0008033870137933444 0.02834408251810851\n",
      "Hypothesis: Ho: B1 = 0, Ha: B1 !=0\n",
      "t_value: -1.6175132534334893\n",
      "p_value: 0.109306518402386684818417\n",
      "Accept Ho. The coefficient is not significant, and does not have a relationship with respond variable\n"
     ]
    }
   ],
   "source": [
    "# Perceptions of corruption\n",
    "coefficient_testing(coef_corruption, residuals_train, x_train['Perceptions of corruption'], 8)"
   ]
  },
  {
   "cell_type": "code",
   "execution_count": 95,
   "metadata": {},
   "outputs": [
    {
     "name": "stdout",
     "output_type": "stream",
     "text": [
      "coeff_var, std: 0.008059283285982375 0.08977351104854023\n",
      "Hypothesis: Ho: B1 = 0, Ha: B1 !=0\n",
      "t_value: -2.585796535610298\n",
      "p_value: 0.011340326988791797971357\n",
      "Reject Ho. The coefficient is significant, and has a relationship with the respond variable\n"
     ]
    }
   ],
   "source": [
    "# Unemployment rate: rateWb\n",
    "coefficient_testing(coef_unemployment, residuals_train, x_train['rateWb'], 8)"
   ]
  },
  {
   "attachments": {},
   "cell_type": "markdown",
   "metadata": {},
   "source": [
    "## Accuracy Evaluation"
   ]
  },
  {
   "cell_type": "code",
   "execution_count": null,
   "metadata": {},
   "outputs": [],
   "source": []
  },
  {
   "attachments": {},
   "cell_type": "markdown",
   "metadata": {},
   "source": [
    "## Residuals Evaluation"
   ]
  },
  {
   "cell_type": "markdown",
   "metadata": {},
   "source": []
  }
 ],
 "metadata": {
  "kernelspec": {
   "display_name": "global-birth-rate-analysis",
   "language": "python",
   "name": "python3"
  },
  "language_info": {
   "codemirror_mode": {
    "name": "ipython",
    "version": 3
   },
   "file_extension": ".py",
   "mimetype": "text/x-python",
   "name": "python",
   "nbconvert_exporter": "python",
   "pygments_lexer": "ipython3",
   "version": "3.11.3"
  },
  "orig_nbformat": 4
 },
 "nbformat": 4,
 "nbformat_minor": 2
}
