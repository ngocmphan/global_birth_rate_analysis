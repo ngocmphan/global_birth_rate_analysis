{
 "cells": [
  {
   "attachments": {},
   "cell_type": "markdown",
   "metadata": {},
   "source": [
    "# Global birth rate analysis"
   ]
  },
  {
   "attachments": {},
   "cell_type": "markdown",
   "metadata": {},
   "source": [
    "Birth rate by country and the global birth rate will be analyzed under the impacts of the following factors: \n",
    "- Financial: GDP per Capita\n",
    "- Social: Happiness index, Social support score, life expectancy, freedom to make life choices, generosity,perception of corruption\n",
    "- Jobs: Unemployment rate"
   ]
  },
  {
   "cell_type": "code",
   "execution_count": 362,
   "metadata": {},
   "outputs": [],
   "source": [
    "import pandas as pd\n",
    "import numpy as np\n",
    "from sklearn.model_selection import train_test_split\n",
    "from sklearn import linear_model\n",
    "from scipy import stats\n",
    "import statsmodels.api as sm\n",
    "import matplotlib.pyplot as plt\n",
    "from statsmodels.stats.stattools import durbin_watson"
   ]
  },
  {
   "attachments": {},
   "cell_type": "markdown",
   "metadata": {},
   "source": [
    "## Data Import & Data Preparation"
   ]
  },
  {
   "cell_type": "code",
   "execution_count": 363,
   "metadata": {},
   "outputs": [],
   "source": [
    "# Data import\n",
    "df_birth_rate = pd.read_csv(\"birth_rate.csv\")\n",
    "df_gdp = pd.read_csv(\"GDP.csv\")\n",
    "df_happiness_index = pd.read_excel(\"DataForFigure2.1WHR2023.xls\")\n",
    "df_unemployment_rate = pd.read_csv('unemployment_rate.csv')\n",
    "df_inflation_rate = pd.read_excel('inflation-data.xlsx',sheet_name='hcpi_a')\n"
   ]
  },
  {
   "cell_type": "code",
   "execution_count": 364,
   "metadata": {},
   "outputs": [],
   "source": [
    "# Drop duplicates & rename columns\n",
    "df_birth_rate = df_birth_rate.rename({'country': 'Country'}, axis='columns')\n",
    "df_gdp = df_gdp.drop_duplicates(subset='country', keep='first')\n",
    "df_gdp = df_gdp.rename({'country': 'Country'}, axis='columns')\n",
    "df_happiness_index = df_happiness_index.rename({'Country name': 'Country'},\n",
    "                                               axis='columns')\n",
    "df_unemployment_rate = df_unemployment_rate.rename({'country': 'Country'},\n",
    "                                                    axis='columns')\n",
    "df_inflation_rate = df_inflation_rate.rename({2022:'inflation'}, axis='columns')\n"
   ]
  },
  {
   "cell_type": "code",
   "execution_count": 365,
   "metadata": {},
   "outputs": [],
   "source": [
    "# Preliminary variable selection\n",
    "df_birth_rate = df_birth_rate[['birthRate', 'Country']]\n",
    "df_gdp = df_gdp[['Country', 'gdpPerCapita']]\n",
    "df_happiness_index = df_happiness_index[['Country', 'Ladder score', 'Social support', \n",
    "                                         'Healthy life expectancy',\n",
    "                                         'Freedom to make life choices', \n",
    "                                         'Generosity', 'Perceptions of corruption']]\n",
    "df_unemployment_rate = df_unemployment_rate[['Country', 'rateWb']]\n",
    "df_inflation_rate = df_inflation_rate[['Country', 'inflation']]\n"
   ]
  },
  {
   "cell_type": "code",
   "execution_count": 366,
   "metadata": {},
   "outputs": [
    {
     "data": {
      "text/plain": [
       "Index(['birthRate', 'Country', 'gdpPerCapita', 'Ladder score',\n",
       "       'Social support', 'Healthy life expectancy',\n",
       "       'Freedom to make life choices', 'Generosity',\n",
       "       'Perceptions of corruption', 'rateWb', 'inflation'],\n",
       "      dtype='object')"
      ]
     },
     "execution_count": 366,
     "metadata": {},
     "output_type": "execute_result"
    }
   ],
   "source": [
    "# Main data frame preparation\n",
    "df_final = df_birth_rate.merge(df_gdp,\n",
    "                                on='Country').merge(df_happiness_index,\n",
    "                                                     on='Country').merge(df_unemployment_rate, on='Country').merge(df_inflation_rate, on='Country')\n",
    "\n",
    "df_final.columns"
   ]
  },
  {
   "cell_type": "code",
   "execution_count": 367,
   "metadata": {},
   "outputs": [],
   "source": [
    "df_final[['gdpPerCapita', 'Social support', 'Freedom to make life choices', 'Generosity', 'Perceptions of corruption']] = df_final[['gdpPerCapita', 'Social support', 'Freedom to make life choices', 'Generosity', 'Perceptions of corruption']]*100\n",
    "df_final.loc[8, 'inflation'] = 3.9"
   ]
  },
  {
   "cell_type": "code",
   "execution_count": 368,
   "metadata": {},
   "outputs": [],
   "source": [
    "# Data partition\n",
    "df_predictors = df_final[['gdpPerCapita', 'Ladder score', 'Social support', \n",
    "                          'Healthy life expectancy', 'Freedom to make life choices',\n",
    "                          'Generosity', 'Perceptions of corruption', 'rateWb',\n",
    "                            'inflation']]\n",
    "df_target = df_final['birthRate']\n",
    "\n",
    "x_train, x_test, y_train, y_test = train_test_split(df_predictors,df_target,test_size=0.25)\n"
   ]
  },
  {
   "attachments": {},
   "cell_type": "markdown",
   "metadata": {},
   "source": [
    "## Model Fit & Model result"
   ]
  },
  {
   "cell_type": "markdown",
   "metadata": {},
   "source": []
  },
  {
   "cell_type": "code",
   "execution_count": 369,
   "metadata": {},
   "outputs": [],
   "source": [
    "model = linear_model.LinearRegression()"
   ]
  },
  {
   "cell_type": "code",
   "execution_count": 370,
   "metadata": {},
   "outputs": [
    {
     "data": {
      "text/html": [
       "<style>#sk-container-id-10 {color: black;background-color: white;}#sk-container-id-10 pre{padding: 0;}#sk-container-id-10 div.sk-toggleable {background-color: white;}#sk-container-id-10 label.sk-toggleable__label {cursor: pointer;display: block;width: 100%;margin-bottom: 0;padding: 0.3em;box-sizing: border-box;text-align: center;}#sk-container-id-10 label.sk-toggleable__label-arrow:before {content: \"▸\";float: left;margin-right: 0.25em;color: #696969;}#sk-container-id-10 label.sk-toggleable__label-arrow:hover:before {color: black;}#sk-container-id-10 div.sk-estimator:hover label.sk-toggleable__label-arrow:before {color: black;}#sk-container-id-10 div.sk-toggleable__content {max-height: 0;max-width: 0;overflow: hidden;text-align: left;background-color: #f0f8ff;}#sk-container-id-10 div.sk-toggleable__content pre {margin: 0.2em;color: black;border-radius: 0.25em;background-color: #f0f8ff;}#sk-container-id-10 input.sk-toggleable__control:checked~div.sk-toggleable__content {max-height: 200px;max-width: 100%;overflow: auto;}#sk-container-id-10 input.sk-toggleable__control:checked~label.sk-toggleable__label-arrow:before {content: \"▾\";}#sk-container-id-10 div.sk-estimator input.sk-toggleable__control:checked~label.sk-toggleable__label {background-color: #d4ebff;}#sk-container-id-10 div.sk-label input.sk-toggleable__control:checked~label.sk-toggleable__label {background-color: #d4ebff;}#sk-container-id-10 input.sk-hidden--visually {border: 0;clip: rect(1px 1px 1px 1px);clip: rect(1px, 1px, 1px, 1px);height: 1px;margin: -1px;overflow: hidden;padding: 0;position: absolute;width: 1px;}#sk-container-id-10 div.sk-estimator {font-family: monospace;background-color: #f0f8ff;border: 1px dotted black;border-radius: 0.25em;box-sizing: border-box;margin-bottom: 0.5em;}#sk-container-id-10 div.sk-estimator:hover {background-color: #d4ebff;}#sk-container-id-10 div.sk-parallel-item::after {content: \"\";width: 100%;border-bottom: 1px solid gray;flex-grow: 1;}#sk-container-id-10 div.sk-label:hover label.sk-toggleable__label {background-color: #d4ebff;}#sk-container-id-10 div.sk-serial::before {content: \"\";position: absolute;border-left: 1px solid gray;box-sizing: border-box;top: 0;bottom: 0;left: 50%;z-index: 0;}#sk-container-id-10 div.sk-serial {display: flex;flex-direction: column;align-items: center;background-color: white;padding-right: 0.2em;padding-left: 0.2em;position: relative;}#sk-container-id-10 div.sk-item {position: relative;z-index: 1;}#sk-container-id-10 div.sk-parallel {display: flex;align-items: stretch;justify-content: center;background-color: white;position: relative;}#sk-container-id-10 div.sk-item::before, #sk-container-id-10 div.sk-parallel-item::before {content: \"\";position: absolute;border-left: 1px solid gray;box-sizing: border-box;top: 0;bottom: 0;left: 50%;z-index: -1;}#sk-container-id-10 div.sk-parallel-item {display: flex;flex-direction: column;z-index: 1;position: relative;background-color: white;}#sk-container-id-10 div.sk-parallel-item:first-child::after {align-self: flex-end;width: 50%;}#sk-container-id-10 div.sk-parallel-item:last-child::after {align-self: flex-start;width: 50%;}#sk-container-id-10 div.sk-parallel-item:only-child::after {width: 0;}#sk-container-id-10 div.sk-dashed-wrapped {border: 1px dashed gray;margin: 0 0.4em 0.5em 0.4em;box-sizing: border-box;padding-bottom: 0.4em;background-color: white;}#sk-container-id-10 div.sk-label label {font-family: monospace;font-weight: bold;display: inline-block;line-height: 1.2em;}#sk-container-id-10 div.sk-label-container {text-align: center;}#sk-container-id-10 div.sk-container {/* jupyter's `normalize.less` sets `[hidden] { display: none; }` but bootstrap.min.css set `[hidden] { display: none !important; }` so we also need the `!important` here to be able to override the default hidden behavior on the sphinx rendered scikit-learn.org. See: https://github.com/scikit-learn/scikit-learn/issues/21755 */display: inline-block !important;position: relative;}#sk-container-id-10 div.sk-text-repr-fallback {display: none;}</style><div id=\"sk-container-id-10\" class=\"sk-top-container\"><div class=\"sk-text-repr-fallback\"><pre>LinearRegression()</pre><b>In a Jupyter environment, please rerun this cell to show the HTML representation or trust the notebook. <br />On GitHub, the HTML representation is unable to render, please try loading this page with nbviewer.org.</b></div><div class=\"sk-container\" hidden><div class=\"sk-item\"><div class=\"sk-estimator sk-toggleable\"><input class=\"sk-toggleable__control sk-hidden--visually\" id=\"sk-estimator-id-10\" type=\"checkbox\" checked><label for=\"sk-estimator-id-10\" class=\"sk-toggleable__label sk-toggleable__label-arrow\">LinearRegression</label><div class=\"sk-toggleable__content\"><pre>LinearRegression()</pre></div></div></div></div></div>"
      ],
      "text/plain": [
       "LinearRegression()"
      ]
     },
     "execution_count": 370,
     "metadata": {},
     "output_type": "execute_result"
    }
   ],
   "source": [
    "model.fit(x_train,y_train)"
   ]
  },
  {
   "cell_type": "code",
   "execution_count": 371,
   "metadata": {},
   "outputs": [],
   "source": [
    "# birth_rate fitted and birth_rate prediction\n",
    "y_fitted = model.predict(x_train)\n",
    "y_predict = model.predict(x_test)"
   ]
  },
  {
   "cell_type": "code",
   "execution_count": 372,
   "metadata": {},
   "outputs": [],
   "source": [
    "# residuals from train & test\n",
    "residuals_train = y_train - y_fitted\n",
    "residuals_test = y_test - y_predict"
   ]
  },
  {
   "cell_type": "code",
   "execution_count": 373,
   "metadata": {},
   "outputs": [
    {
     "data": {
      "text/plain": [
       "array([ 4.34541288e-08, -9.77871599e-01, -1.82542461e-02, -1.33310661e+00,\n",
       "       -6.92719545e-02,  2.11124479e-03, -7.23582387e-02, -1.28443670e-01,\n",
       "       -1.71468096e-02])"
      ]
     },
     "execution_count": 373,
     "metadata": {},
     "output_type": "execute_result"
    }
   ],
   "source": [
    "# Coefficients\n",
    "coef_gdp = model.coef_[0]\n",
    "coef_happiness_index = model.coef_[1]\n",
    "coef_social_support = model.coef_[2]\n",
    "coef_life_expectancy = model.coef_[3]\n",
    "coef_freedom = model.coef_[4]\n",
    "coef_generosity = model.coef_[5]\n",
    "coef_corruption = model.coef_[6]\n",
    "coef_unemployment = model.coef_[7]\n",
    "coef_inflation = model.coef_[8]\n",
    "intercept = model.intercept_\n",
    "model.coef_"
   ]
  },
  {
   "cell_type": "code",
   "execution_count": 374,
   "metadata": {},
   "outputs": [
    {
     "name": "stdout",
     "output_type": "stream",
     "text": [
      "model = 124.128060 + 0.000000 GDP -0.977872 Happiness index  -0.018254 Social support -1.333107 life expectancy  -0.069272 freedom  0.002111 generosity  -0.072358 corruption  -0.128444 Unemployment -0.017147 Inflation\n"
     ]
    }
   ],
   "source": [
    "print('model = %f + %f GDP %f Happiness index  %f Social support %f life expectancy  %f freedom  %f generosity  %f corruption  %f Unemployment %f Inflation' % (intercept, coef_gdp, coef_happiness_index, coef_social_support, coef_life_expectancy, coef_freedom, coef_generosity, coef_corruption, coef_unemployment, coef_inflation))"
   ]
  },
  {
   "cell_type": "code",
   "execution_count": 375,
   "metadata": {},
   "outputs": [],
   "source": [
    "stats_model = sm.OLS(y_train, x_train).fit()"
   ]
  },
  {
   "attachments": {},
   "cell_type": "markdown",
   "metadata": {},
   "source": [
    "## Model & Predictors Evaluation"
   ]
  },
  {
   "cell_type": "code",
   "execution_count": 376,
   "metadata": {},
   "outputs": [],
   "source": [
    "def model_significance(y_train_set, y_pred, p):\n",
    "    y_mean = np.mean(y_train_set)\n",
    "    tss = ((y_train_set - y_mean)**2).sum()\n",
    "    rss = ((y_train_set - y_pred)**2).sum()\n",
    "    n = len(y_train_set)\n",
    "    f_test = (tss-rss)/(rss/(n-p-1))\n",
    "    print(f_test)\n",
    "    if f_test > 1:\n",
    "        print(\"Reject Ho. At least one of the model coefficients is significant.\")\n",
    "    if f_test <=1: \n",
    "        print(\"Accept Ho. No coefficients are useful.\")\n",
    "\n",
    "\n",
    "def coefficient_testing(coeff, residuals, trainset,p):\n",
    "    \"\"\"Perform Hypothesis testing to determine if Coefficient in regression is significant\"\"\"\n",
    "    # Obtain the residual standard deviation\n",
    "    residual_variance = np.var(residuals)\n",
    "    x_mean = np.mean(trainset)\n",
    "    x_squared = ((trainset - x_mean)**2).sum()\n",
    "    coeff_var = residual_variance/ x_squared\n",
    "    coeff_std = np.sqrt(coeff_var)\n",
    "    print(\"coeff_var, std:\",coeff_var, coeff_std)\n",
    "    # Obtain t test\n",
    "    print(\"Hypothesis: Ho: B1 = 0, Ha: B1 !=0\")\n",
    "    t_value = coeff/coeff_std\n",
    "    print(\"t_value:\", t_value)\n",
    "    degree_of_freedom = len(trainset) - p -1\n",
    "    p_value = stats.t.sf(abs(t_value), degree_of_freedom)*2\n",
    "    print (\"p_value: %.24f\" % p_value)\n",
    "    # Conclusion:\n",
    "    if p_value < 0.05:\n",
    "        print('Reject Ho. The coefficient is significant, and has a relationship with the respond variable')\n",
    "    if p_value > 0.05: \n",
    "        print('Accept Ho. The coefficient is not significant, and does not have a relationship with respond variable')\n",
    "    return None\n",
    "\n",
    "\n",
    "def residual_zero_mean(residuals,p):\n",
    "    n = len(residuals)\n",
    "    residual_mean = np.mean(residuals)\n",
    "    residual_std = np.std(residuals)\n",
    "    t_test = (residual_mean)/(residual_std/np.sqrt(n))\n",
    "    p_value = stats.t.sf(t_test, n - p - 1)\n",
    "    if p_value > 0.05:\n",
    "        print(\"As the p_value is larger than 0.05, there is no sufficient evidence to reject Ho. From this, residuals mean is equal to 0. Linear regression assumption on residuals is appropriate.\")\n",
    "    elif p_value <= 0.05: \n",
    "        print(\"As p_value is smaller than 0.95, there is sufficient evidence to reject Ho. Thus zero mean assumption is not appropriate.\")\n",
    "\n",
    "def tss_rss(y_train, y_pred):\n",
    "    y_mean = np.mean(y_train)\n",
    "    tss = ((y_train - y_mean)**2).sum()\n",
    "    rss = ((y_train - y_pred)**2).sum()\n",
    "    n = len(y_train)\n",
    "    return tss, rss\n",
    "\n",
    "def autocorrelation(residuals):\n",
    "    print(\"Ho: There is no correlation among residuals\")\n",
    "    print(\"Ha: There is correlation between residuals\")\n",
    "    test = durbin_watson(residuals)\n",
    "    print(test)\n",
    "    if test>= 0 and test <= 1.5: \n",
    "        print(\"Reject Ho. There is sufficient evidence indicating a positive correlation in the residuals.\")\n",
    "    elif test > 1.5 and test <= 2.5:\n",
    "        print(\"Do not reject Ho. There is no correlation among residuals.\")\n",
    "    elif test > 2.5:\n",
    "        print(\"Reject Ho. There is sufficient evidence indicating a negative correlation in the residuals\")\n",
    "        \n"
   ]
  },
  {
   "attachments": {},
   "cell_type": "markdown",
   "metadata": {},
   "source": [
    "### Model Evaluation"
   ]
  },
  {
   "cell_type": "code",
   "execution_count": 377,
   "metadata": {},
   "outputs": [
    {
     "name": "stdout",
     "output_type": "stream",
     "text": [
      "298.4953559365028\n",
      "Reject Ho. At least one of the model coefficients is significant.\n"
     ]
    }
   ],
   "source": [
    "# Model evaluation - F test\n",
    "model_significance(y_train, y_fitted, 8)"
   ]
  },
  {
   "attachments": {},
   "cell_type": "markdown",
   "metadata": {},
   "source": [
    "### Coefficient evaluation\n"
   ]
  },
  {
   "cell_type": "code",
   "execution_count": 378,
   "metadata": {},
   "outputs": [
    {
     "name": "stdout",
     "output_type": "stream",
     "text": [
      "coeff_var, std: 3.718954598346836e-14 1.9284591254021528e-07\n",
      "Hypothesis: Ho: B1 = 0, Ha: B1 !=0\n",
      "t_value: 0.22533082639681917\n",
      "p_value: 0.822244379933117053305125\n",
      "Accept Ho. The coefficient is not significant, and does not have a relationship with respond variable\n"
     ]
    }
   ],
   "source": [
    "# GDP coefficient\n",
    "coefficient_testing(coef_gdp, residuals_train, x_train['gdpPerCapita'],8)"
   ]
  },
  {
   "cell_type": "code",
   "execution_count": 379,
   "metadata": {},
   "outputs": [
    {
     "name": "stdout",
     "output_type": "stream",
     "text": [
      "coeff_var, std: 0.179774299930555 0.4239979951963865\n",
      "Hypothesis: Ho: B1 = 0, Ha: B1 !=0\n",
      "t_value: -2.306311844940969\n",
      "p_value: 0.023442654331672713868828\n",
      "Reject Ho. The coefficient is significant, and has a relationship with the respond variable\n"
     ]
    }
   ],
   "source": [
    "# Happiness index\n",
    "coefficient_testing(coef_happiness_index, residuals_train, x_train['Ladder score'], 8)"
   ]
  },
  {
   "cell_type": "code",
   "execution_count": 380,
   "metadata": {},
   "outputs": [
    {
     "name": "stdout",
     "output_type": "stream",
     "text": [
      "coeff_var, std: 0.0014567167738813599 0.03816695919092009\n",
      "Hypothesis: Ho: B1 = 0, Ha: B1 !=0\n",
      "t_value: -0.4782735256961257\n",
      "p_value: 0.633641599398969468381893\n",
      "Accept Ho. The coefficient is not significant, and does not have a relationship with respond variable\n"
     ]
    }
   ],
   "source": [
    "# Social support\n",
    "coefficient_testing(coef_social_support, residuals_train, x_train['Social support'],8)"
   ]
  },
  {
   "cell_type": "code",
   "execution_count": 381,
   "metadata": {},
   "outputs": [
    {
     "name": "stdout",
     "output_type": "stream",
     "text": [
      "coeff_var, std: 0.006688123988206894 0.08178095125520914\n",
      "Hypothesis: Ho: B1 = 0, Ha: B1 !=0\n",
      "t_value: -16.300942760445277\n",
      "p_value: 0.000000000000000000000000\n",
      "Reject Ho. The coefficient is significant, and has a relationship with the respond variable\n"
     ]
    }
   ],
   "source": [
    "# Healthy life expectancy\n",
    "coefficient_testing(coef_life_expectancy, residuals_train, x_train['Healthy life expectancy'], 8)"
   ]
  },
  {
   "cell_type": "code",
   "execution_count": 382,
   "metadata": {},
   "outputs": [
    {
     "name": "stdout",
     "output_type": "stream",
     "text": [
      "coeff_var, std: 0.001721346167508974 0.04148910902283844\n",
      "Hypothesis: Ho: B1 = 0, Ha: B1 !=0\n",
      "t_value: -1.6696418923574092\n",
      "p_value: 0.098543965351112094985808\n",
      "Accept Ho. The coefficient is not significant, and does not have a relationship with respond variable\n"
     ]
    }
   ],
   "source": [
    "# Freedom to make life choices\n",
    "coefficient_testing(coef_freedom, residuals_train, x_train['Freedom to make life choices'], 8)\n"
   ]
  },
  {
   "cell_type": "code",
   "execution_count": 383,
   "metadata": {},
   "outputs": [
    {
     "name": "stdout",
     "output_type": "stream",
     "text": [
      "coeff_var, std: 0.000996366160943574 0.03156526826978624\n",
      "Hypothesis: Ho: B1 = 0, Ha: B1 !=0\n",
      "t_value: 0.06688505760247669\n",
      "p_value: 0.946824936689076634976914\n",
      "Accept Ho. The coefficient is not significant, and does not have a relationship with respond variable\n"
     ]
    }
   ],
   "source": [
    "# Generosity\n",
    "coefficient_testing(coef_generosity, residuals_train, x_train['Generosity'], 8)"
   ]
  },
  {
   "cell_type": "code",
   "execution_count": 384,
   "metadata": {},
   "outputs": [
    {
     "name": "stdout",
     "output_type": "stream",
     "text": [
      "coeff_var, std: 0.0007242930040662297 0.026912692248569813\n",
      "Hypothesis: Ho: B1 = 0, Ha: B1 !=0\n",
      "t_value: -2.6886287706306637\n",
      "p_value: 0.008580883915808952197568\n",
      "Reject Ho. The coefficient is significant, and has a relationship with the respond variable\n"
     ]
    }
   ],
   "source": [
    "# Perceptions of corruption\n",
    "coefficient_testing(coef_corruption, residuals_train, x_train['Perceptions of corruption'], 8)"
   ]
  },
  {
   "cell_type": "code",
   "execution_count": 385,
   "metadata": {},
   "outputs": [
    {
     "name": "stdout",
     "output_type": "stream",
     "text": [
      "coeff_var, std: 0.007089310724204231 0.08419804465784364\n",
      "Hypothesis: Ho: B1 = 0, Ha: B1 !=0\n",
      "t_value: -1.5254946893617372\n",
      "p_value: 0.130721872645044645544488\n",
      "Accept Ho. The coefficient is not significant, and does not have a relationship with respond variable\n"
     ]
    }
   ],
   "source": [
    "# Unemployment rate: rateWb\n",
    "coefficient_testing(coef_unemployment, residuals_train, x_train['rateWb'], 8)"
   ]
  },
  {
   "cell_type": "code",
   "execution_count": 386,
   "metadata": {},
   "outputs": [
    {
     "name": "stdout",
     "output_type": "stream",
     "text": [
      "coeff_var, std: 0.00014571844219881552 0.012071389406311748\n",
      "Hypothesis: Ho: B1 = 0, Ha: B1 !=0\n",
      "t_value: -1.4204503704541673\n",
      "p_value: 0.159010075049617283227121\n",
      "Accept Ho. The coefficient is not significant, and does not have a relationship with respond variable\n"
     ]
    }
   ],
   "source": [
    "# Inflation rate\n",
    "coefficient_testing(coef_inflation, residuals_train, x_train['inflation'],8)"
   ]
  },
  {
   "attachments": {},
   "cell_type": "markdown",
   "metadata": {},
   "source": [
    "## Accuracy Evaluation"
   ]
  },
  {
   "attachments": {},
   "cell_type": "markdown",
   "metadata": {},
   "source": [
    "#### Train set"
   ]
  },
  {
   "cell_type": "code",
   "execution_count": 387,
   "metadata": {},
   "outputs": [],
   "source": [
    "tss_train, rss_train = tss_rss(y_train, y_fitted)"
   ]
  },
  {
   "cell_type": "code",
   "execution_count": 388,
   "metadata": {},
   "outputs": [],
   "source": [
    "n_train = len(y_train)\n",
    "rse_train = np.sqrt(rss_train/(n_train-8-1))\n",
    "r_squared_train = (tss_train-rss_train)/tss_train"
   ]
  },
  {
   "cell_type": "code",
   "execution_count": 389,
   "metadata": {},
   "outputs": [
    {
     "name": "stdout",
     "output_type": "stream",
     "text": [
      "RSE: 4.843408398340985\n",
      "R-squared: 0.7723129174818403\n"
     ]
    }
   ],
   "source": [
    "print(\"RSE:\", rse_train)\n",
    "print(\"R-squared:\", r_squared_train)"
   ]
  },
  {
   "attachments": {},
   "cell_type": "markdown",
   "metadata": {},
   "source": [
    "#### Test set"
   ]
  },
  {
   "cell_type": "code",
   "execution_count": 390,
   "metadata": {},
   "outputs": [],
   "source": [
    "tss_test, rss_test = tss_rss(y_test, y_predict)\n",
    "n_test = len(y_test)\n",
    "rse_test = np.sqrt(rss_test/(n_test - 8-1))\n",
    "r_squared_test = (tss_test-rss_test)/tss_test"
   ]
  },
  {
   "cell_type": "code",
   "execution_count": 391,
   "metadata": {},
   "outputs": [
    {
     "name": "stdout",
     "output_type": "stream",
     "text": [
      "RSE: 5.578183328297132\n",
      "R-squared: 0.8105983974680159\n"
     ]
    }
   ],
   "source": [
    "print(\"RSE:\", rse_test)\n",
    "print(\"R-squared:\", r_squared_test)"
   ]
  },
  {
   "attachments": {},
   "cell_type": "markdown",
   "metadata": {},
   "source": [
    "## Residuals Evaluation"
   ]
  },
  {
   "attachments": {},
   "cell_type": "markdown",
   "metadata": {},
   "source": [
    "Residuals will be assessed for the following factors: \n",
    "- Mean of zero\n",
    "- Normally distributed\n",
    "- Constant variance\n",
    "- Autocorrelation check"
   ]
  },
  {
   "cell_type": "code",
   "execution_count": 392,
   "metadata": {},
   "outputs": [
    {
     "name": "stdout",
     "output_type": "stream",
     "text": [
      "As the p_value is larger than 0.05, there is no sufficient evidence to reject Ho. From this, residuals mean is equal to 0. Linear regression assumption on residuals is appropriate.\n"
     ]
    }
   ],
   "source": [
    "# Test residuals mean of zero\n",
    "residual_zero_mean(residuals_test, 8)"
   ]
  },
  {
   "cell_type": "code",
   "execution_count": 393,
   "metadata": {},
   "outputs": [
    {
     "data": {
      "text/plain": [
       "(array([3., 2., 3., 4., 6., 6., 3., 3., 0., 3.]),\n",
       " array([-7.99673043, -6.11559748, -4.23446453, -2.35333158, -0.47219862,\n",
       "         1.40893433,  3.29006728,  5.17120023,  7.05233318,  8.93346613,\n",
       "        10.81459908]),\n",
       " <BarContainer object of 10 artists>)"
      ]
     },
     "execution_count": 393,
     "metadata": {},
     "output_type": "execute_result"
    },
    {
     "data": {
      "image/png": "[encoded data removed]",
      "text/plain": [
       "<Figure size 640x480 with 1 Axes>"
      ]
     },
     "metadata": {},
     "output_type": "display_data"
    }
   ],
   "source": [
    "# Test for Normal distribution\n",
    "plt.hist(residuals_test)"
   ]
  },
  {
   "cell_type": "code",
   "execution_count": 394,
   "metadata": {},
   "outputs": [
    {
     "data": {
      "text/plain": [
       "<matplotlib.collections.PathCollection at 0x129091590>"
      ]
     },
     "execution_count": 394,
     "metadata": {},
     "output_type": "execute_result"
    },
    {
     "data": {
      "image/png": "[encoded data removed]",
      "text/plain": [
       "<Figure size 640x480 with 1 Axes>"
      ]
     },
     "metadata": {},
     "output_type": "display_data"
    }
   ],
   "source": [
    "# Test for constant variance\n",
    "plt.scatter(y_test, residuals_test)"
   ]
  },
  {
   "cell_type": "code",
   "execution_count": 395,
   "metadata": {},
   "outputs": [
    {
     "name": "stdout",
     "output_type": "stream",
     "text": [
      "Ho: There is no correlation among residuals\n",
      "Ha: There is correlation between residuals\n",
      "1.459373428945271\n",
      "Reject Ho. There is sufficient evidence indicating a positive correlation in the residuals.\n"
     ]
    }
   ],
   "source": [
    "# Autocorrelation check\n",
    "autocorrelation(residuals_test)\n"
   ]
  },
  {
   "cell_type": "code",
   "execution_count": null,
   "metadata": {},
   "outputs": [],
   "source": []
  }
 ],
 "metadata": {
  "kernelspec": {
   "display_name": "global-birth-rate-analysis",
   "language": "python",
   "name": "python3"
  },
  "language_info": {
   "codemirror_mode": {
    "name": "ipython",
    "version": 3
   },
   "file_extension": ".py",
   "mimetype": "text/x-python",
   "name": "python",
   "nbconvert_exporter": "python",
   "pygments_lexer": "ipython3",
   "version": "3.11.3"
  },
  "orig_nbformat": 4
 },
 "nbformat": 4,
 "nbformat_minor": 2
}
