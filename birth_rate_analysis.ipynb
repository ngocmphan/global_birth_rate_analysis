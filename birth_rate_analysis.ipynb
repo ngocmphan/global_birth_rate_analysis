{
 "cells": [
  {
   "attachments": {},
   "cell_type": "markdown",
   "metadata": {},
   "source": [
    "# Global birth rate analysis"
   ]
  },
  {
   "attachments": {},
   "cell_type": "markdown",
   "metadata": {},
   "source": [
    "Birth rate by country and the global birth rate will be analyzed under the impacts of the following factors: \n",
    "- Economy: GDP per Capita, inflation\n",
    "- Social: Happiness index, Social support score, life expectancy, freedom to make life choices, generosity,perception of corruption\n",
    "- Jobs: Unemployment rate\n",
    "\n",
    "Please go to the Overall Conclusion section for the result of the analysis. "
   ]
  },
  {
   "cell_type": "code",
   "execution_count": 384,
   "metadata": {},
   "outputs": [],
   "source": [
    "import pandas as pd\n",
    "import numpy as np\n",
    "from sklearn.model_selection import train_test_split\n",
    "from sklearn import linear_model\n",
    "from scipy import stats\n",
    "import statsmodels.api as sm\n",
    "import matplotlib.pyplot as plt\n",
    "from statsmodels.stats.stattools import durbin_watson\n",
    "import seaborn as sns\n",
    "from sklearn.preprocessing import PolynomialFeatures\n",
    "from sklearn.feature_selection import SelectKBest, f_regression\n",
    "from statsmodels.stats.outliers_influence import variance_inflation_factor"
   ]
  },
  {
   "attachments": {},
   "cell_type": "markdown",
   "metadata": {},
   "source": [
    "## Data Import & Data Preparation"
   ]
  },
  {
   "cell_type": "code",
   "execution_count": 385,
   "metadata": {},
   "outputs": [],
   "source": [
    "# Data import\n",
    "df_birth_rate = pd.read_csv(\"birth_rate.csv\")\n",
    "df_gdp = pd.read_csv(\"GDP.csv\")\n",
    "df_happiness_index = pd.read_excel(\"DataForFigure2.1WHR2023.xls\")\n",
    "df_unemployment_rate = pd.read_csv('unemployment_rate.csv')\n",
    "df_inflation_rate = pd.read_excel('inflation-data.xlsx',sheet_name='hcpi_a')\n"
   ]
  },
  {
   "cell_type": "code",
   "execution_count": 386,
   "metadata": {},
   "outputs": [],
   "source": [
    "# Drop duplicates & rename columns\n",
    "df_birth_rate = df_birth_rate.rename({'country': 'Country'}, axis='columns')\n",
    "df_gdp = df_gdp.drop_duplicates(subset='country', keep='first')\n",
    "df_gdp = df_gdp.rename({'country': 'Country'}, axis='columns')\n",
    "df_happiness_index = df_happiness_index.rename({'Country name': 'Country'},\n",
    "                                               axis='columns')\n",
    "df_unemployment_rate = df_unemployment_rate.rename({'country': 'Country'},\n",
    "                                                    axis='columns')\n",
    "df_inflation_rate = df_inflation_rate.rename({2022:'inflation'}, axis='columns')\n"
   ]
  },
  {
   "cell_type": "code",
   "execution_count": 387,
   "metadata": {},
   "outputs": [],
   "source": [
    "# Preliminary variable selection\n",
    "df_birth_rate = df_birth_rate[['birthRate', 'Country']]\n",
    "df_gdp = df_gdp[['Country', 'gdpPerCapita']]\n",
    "df_happiness_index = df_happiness_index[['Country', 'Ladder score', 'Social support', \n",
    "                                         'Healthy life expectancy',\n",
    "                                         'Freedom to make life choices', \n",
    "                                         'Generosity', 'Perceptions of corruption']]\n",
    "df_unemployment_rate = df_unemployment_rate[['Country', 'rateWb']]\n",
    "df_inflation_rate = df_inflation_rate[['Country', 'inflation']]\n"
   ]
  },
  {
   "cell_type": "code",
   "execution_count": 388,
   "metadata": {},
   "outputs": [
    {
     "data": {
      "text/plain": [
       "Index(['birthRate', 'Country', 'gdpPerCapita', 'Ladder score',\n",
       "       'Social support', 'Healthy life expectancy',\n",
       "       'Freedom to make life choices', 'Generosity',\n",
       "       'Perceptions of corruption', 'rateWb', 'inflation'],\n",
       "      dtype='object')"
      ]
     },
     "execution_count": 388,
     "metadata": {},
     "output_type": "execute_result"
    }
   ],
   "source": [
    "# Main data frame preparation\n",
    "df_final = df_birth_rate.merge(df_gdp,\n",
    "                                on='Country').merge(df_happiness_index,\n",
    "                                                     on='Country').merge(df_unemployment_rate, on='Country').merge(df_inflation_rate, on='Country')\n",
    "\n",
    "df_final.columns"
   ]
  },
  {
   "cell_type": "code",
   "execution_count": 389,
   "metadata": {},
   "outputs": [],
   "source": [
    "df_final[['gdpPerCapita', 'Social support', 'Freedom to make life choices', 'Generosity', 'Perceptions of corruption']] = df_final[['gdpPerCapita', 'Social support', 'Freedom to make life choices', 'Generosity', 'Perceptions of corruption']]*100\n",
    "df_final.loc[8, 'inflation'] = 3.9"
   ]
  },
  {
   "cell_type": "code",
   "execution_count": 390,
   "metadata": {},
   "outputs": [],
   "source": [
    "# Data partition\n",
    "df_predictors = df_final[['gdpPerCapita', 'Ladder score','rateWb', \n",
    "                            'inflation']]\n",
    "df_target = df_final['birthRate']\n",
    "\n",
    "x_train, x_test, y_train, y_test = train_test_split(df_predictors,df_target,test_size=0.25)\n"
   ]
  },
  {
   "attachments": {},
   "cell_type": "markdown",
   "metadata": {},
   "source": [
    "## Data Exploration"
   ]
  },
  {
   "attachments": {},
   "cell_type": "markdown",
   "metadata": {},
   "source": [
    "Noted that due to high multicollinearity between some predictors after checking the VIF scores, the following variables were removed from the model: \n",
    "- Social support\n",
    "- Healthy life expectancy\n",
    "- Freedom to make life choices\n",
    "- Generosity\n",
    "- Perceptions of corruption"
   ]
  },
  {
   "cell_type": "code",
   "execution_count": 391,
   "metadata": {},
   "outputs": [
    {
     "data": {
      "text/html": [
       "<div>\n",
       "<style scoped>\n",
       "    .dataframe tbody tr th:only-of-type {\n",
       "        vertical-align: middle;\n",
       "    }\n",
       "\n",
       "    .dataframe tbody tr th {\n",
       "        vertical-align: top;\n",
       "    }\n",
       "\n",
       "    .dataframe thead th {\n",
       "        text-align: right;\n",
       "    }\n",
       "</style>\n",
       "<table border=\"1\" class=\"dataframe\">\n",
       "  <thead>\n",
       "    <tr style=\"text-align: right;\">\n",
       "      <th></th>\n",
       "      <th>feature</th>\n",
       "      <th>VIF</th>\n",
       "    </tr>\n",
       "  </thead>\n",
       "  <tbody>\n",
       "    <tr>\n",
       "      <th>0</th>\n",
       "      <td>gdpPerCapita</td>\n",
       "      <td>1.956180</td>\n",
       "    </tr>\n",
       "    <tr>\n",
       "      <th>1</th>\n",
       "      <td>Ladder score</td>\n",
       "      <td>4.301007</td>\n",
       "    </tr>\n",
       "    <tr>\n",
       "      <th>2</th>\n",
       "      <td>rateWb</td>\n",
       "      <td>3.020827</td>\n",
       "    </tr>\n",
       "    <tr>\n",
       "      <th>3</th>\n",
       "      <td>inflation</td>\n",
       "      <td>1.216540</td>\n",
       "    </tr>\n",
       "  </tbody>\n",
       "</table>\n",
       "</div>"
      ],
      "text/plain": [
       "        feature       VIF\n",
       "0  gdpPerCapita  1.956180\n",
       "1  Ladder score  4.301007\n",
       "2        rateWb  3.020827\n",
       "3     inflation  1.216540"
      ]
     },
     "execution_count": 391,
     "metadata": {},
     "output_type": "execute_result"
    }
   ],
   "source": [
    "# VIF dataframe\n",
    "vif_data = pd.DataFrame()\n",
    "vif_data[\"feature\"] = x_train.columns\n",
    "  \n",
    "# calculating VIF for each feature\n",
    "vif_data[\"VIF\"] = [variance_inflation_factor(x_train.values, i)\n",
    "                          for i in range(len(x_train.columns))]\n",
    "\n",
    "vif_data"
   ]
  },
  {
   "cell_type": "code",
   "execution_count": 392,
   "metadata": {},
   "outputs": [],
   "source": [
    "# sns.pairplot(df_final)"
   ]
  },
  {
   "attachments": {},
   "cell_type": "markdown",
   "metadata": {},
   "source": [
    "## Model Fit & Model result"
   ]
  },
  {
   "cell_type": "code",
   "execution_count": 393,
   "metadata": {},
   "outputs": [],
   "source": [
    "model = linear_model.LinearRegression()"
   ]
  },
  {
   "cell_type": "code",
   "execution_count": 394,
   "metadata": {},
   "outputs": [
    {
     "data": {
      "text/html": [
       "<style>#sk-container-id-14 {color: black;background-color: white;}#sk-container-id-14 pre{padding: 0;}#sk-container-id-14 div.sk-toggleable {background-color: white;}#sk-container-id-14 label.sk-toggleable__label {cursor: pointer;display: block;width: 100%;margin-bottom: 0;padding: 0.3em;box-sizing: border-box;text-align: center;}#sk-container-id-14 label.sk-toggleable__label-arrow:before {content: \"▸\";float: left;margin-right: 0.25em;color: #696969;}#sk-container-id-14 label.sk-toggleable__label-arrow:hover:before {color: black;}#sk-container-id-14 div.sk-estimator:hover label.sk-toggleable__label-arrow:before {color: black;}#sk-container-id-14 div.sk-toggleable__content {max-height: 0;max-width: 0;overflow: hidden;text-align: left;background-color: #f0f8ff;}#sk-container-id-14 div.sk-toggleable__content pre {margin: 0.2em;color: black;border-radius: 0.25em;background-color: #f0f8ff;}#sk-container-id-14 input.sk-toggleable__control:checked~div.sk-toggleable__content {max-height: 200px;max-width: 100%;overflow: auto;}#sk-container-id-14 input.sk-toggleable__control:checked~label.sk-toggleable__label-arrow:before {content: \"▾\";}#sk-container-id-14 div.sk-estimator input.sk-toggleable__control:checked~label.sk-toggleable__label {background-color: #d4ebff;}#sk-container-id-14 div.sk-label input.sk-toggleable__control:checked~label.sk-toggleable__label {background-color: #d4ebff;}#sk-container-id-14 input.sk-hidden--visually {border: 0;clip: rect(1px 1px 1px 1px);clip: rect(1px, 1px, 1px, 1px);height: 1px;margin: -1px;overflow: hidden;padding: 0;position: absolute;width: 1px;}#sk-container-id-14 div.sk-estimator {font-family: monospace;background-color: #f0f8ff;border: 1px dotted black;border-radius: 0.25em;box-sizing: border-box;margin-bottom: 0.5em;}#sk-container-id-14 div.sk-estimator:hover {background-color: #d4ebff;}#sk-container-id-14 div.sk-parallel-item::after {content: \"\";width: 100%;border-bottom: 1px solid gray;flex-grow: 1;}#sk-container-id-14 div.sk-label:hover label.sk-toggleable__label {background-color: #d4ebff;}#sk-container-id-14 div.sk-serial::before {content: \"\";position: absolute;border-left: 1px solid gray;box-sizing: border-box;top: 0;bottom: 0;left: 50%;z-index: 0;}#sk-container-id-14 div.sk-serial {display: flex;flex-direction: column;align-items: center;background-color: white;padding-right: 0.2em;padding-left: 0.2em;position: relative;}#sk-container-id-14 div.sk-item {position: relative;z-index: 1;}#sk-container-id-14 div.sk-parallel {display: flex;align-items: stretch;justify-content: center;background-color: white;position: relative;}#sk-container-id-14 div.sk-item::before, #sk-container-id-14 div.sk-parallel-item::before {content: \"\";position: absolute;border-left: 1px solid gray;box-sizing: border-box;top: 0;bottom: 0;left: 50%;z-index: -1;}#sk-container-id-14 div.sk-parallel-item {display: flex;flex-direction: column;z-index: 1;position: relative;background-color: white;}#sk-container-id-14 div.sk-parallel-item:first-child::after {align-self: flex-end;width: 50%;}#sk-container-id-14 div.sk-parallel-item:last-child::after {align-self: flex-start;width: 50%;}#sk-container-id-14 div.sk-parallel-item:only-child::after {width: 0;}#sk-container-id-14 div.sk-dashed-wrapped {border: 1px dashed gray;margin: 0 0.4em 0.5em 0.4em;box-sizing: border-box;padding-bottom: 0.4em;background-color: white;}#sk-container-id-14 div.sk-label label {font-family: monospace;font-weight: bold;display: inline-block;line-height: 1.2em;}#sk-container-id-14 div.sk-label-container {text-align: center;}#sk-container-id-14 div.sk-container {/* jupyter's `normalize.less` sets `[hidden] { display: none; }` but bootstrap.min.css set `[hidden] { display: none !important; }` so we also need the `!important` here to be able to override the default hidden behavior on the sphinx rendered scikit-learn.org. See: https://github.com/scikit-learn/scikit-learn/issues/21755 */display: inline-block !important;position: relative;}#sk-container-id-14 div.sk-text-repr-fallback {display: none;}</style><div id=\"sk-container-id-14\" class=\"sk-top-container\"><div class=\"sk-text-repr-fallback\"><pre>LinearRegression()</pre><b>In a Jupyter environment, please rerun this cell to show the HTML representation or trust the notebook. <br />On GitHub, the HTML representation is unable to render, please try loading this page with nbviewer.org.</b></div><div class=\"sk-container\" hidden><div class=\"sk-item\"><div class=\"sk-estimator sk-toggleable\"><input class=\"sk-toggleable__control sk-hidden--visually\" id=\"sk-estimator-id-14\" type=\"checkbox\" checked><label for=\"sk-estimator-id-14\" class=\"sk-toggleable__label sk-toggleable__label-arrow\">LinearRegression</label><div class=\"sk-toggleable__content\"><pre>LinearRegression()</pre></div></div></div></div></div>"
      ],
      "text/plain": [
       "LinearRegression()"
      ]
     },
     "execution_count": 394,
     "metadata": {},
     "output_type": "execute_result"
    }
   ],
   "source": [
    "model.fit(x_train,y_train)"
   ]
  },
  {
   "cell_type": "code",
   "execution_count": 395,
   "metadata": {},
   "outputs": [],
   "source": [
    "# birth_rate fitted and birth_rate prediction\n",
    "y_fitted = model.predict(x_train)\n",
    "y_predict = model.predict(x_test)"
   ]
  },
  {
   "cell_type": "code",
   "execution_count": 396,
   "metadata": {},
   "outputs": [],
   "source": [
    "# residuals from train & test\n",
    "residuals_train = y_train - y_fitted\n",
    "residuals_test = y_test - y_predict"
   ]
  },
  {
   "cell_type": "code",
   "execution_count": 397,
   "metadata": {},
   "outputs": [
    {
     "data": {
      "text/plain": [
       "array([-1.40936379e-07, -6.87842799e+00, -3.20972545e-01, -4.55982914e-02])"
      ]
     },
     "execution_count": 397,
     "metadata": {},
     "output_type": "execute_result"
    }
   ],
   "source": [
    "# Coefficients\n",
    "coef_gdp = model.coef_[0]\n",
    "coef_happiness_index = model.coef_[1]\n",
    "coef_unemployment = model.coef_[2]\n",
    "coef_inflation = model.coef_[3]\n",
    "intercept = model.intercept_\n",
    "model.coef_"
   ]
  },
  {
   "cell_type": "code",
   "execution_count": 398,
   "metadata": {},
   "outputs": [
    {
     "name": "stdout",
     "output_type": "stream",
     "text": [
      "model = 60.534897 + -0.000000 GDP -6.878428 Happiness index -0.320973 Unemployment -0.045598 Inflation\n"
     ]
    }
   ],
   "source": [
    "print('model = %f + %f GDP %f Happiness index %f Unemployment %f Inflation' % (intercept, coef_gdp, coef_happiness_index, coef_unemployment, coef_inflation))"
   ]
  },
  {
   "cell_type": "code",
   "execution_count": 399,
   "metadata": {},
   "outputs": [],
   "source": [
    "stats_model = sm.OLS(y_train, x_train).fit()"
   ]
  },
  {
   "attachments": {},
   "cell_type": "markdown",
   "metadata": {},
   "source": [
    "## Model & Predictors Evaluation"
   ]
  },
  {
   "cell_type": "code",
   "execution_count": 400,
   "metadata": {},
   "outputs": [],
   "source": [
    "def model_significance(y_train_set, y_pred, p):\n",
    "    y_mean = np.mean(y_train_set)\n",
    "    tss = ((y_train_set - y_mean)**2).sum()\n",
    "    rss = ((y_train_set - y_pred)**2).sum()\n",
    "    n = len(y_train_set)\n",
    "    f_test = (tss-rss)/(rss/(n-p-1))\n",
    "    print(f_test)\n",
    "    if f_test > 1:\n",
    "        print(\"Reject Ho. At least one of the model coefficients is significant.\")\n",
    "    if f_test <=1: \n",
    "        print(\"Accept Ho. No coefficients are useful.\")\n",
    "\n",
    "\n",
    "def coefficient_testing(coeff, residuals, trainset,p):\n",
    "    \"\"\"Perform Hypothesis testing to determine if Coefficient in regression is significant\"\"\"\n",
    "    # Obtain the residual standard deviation\n",
    "    residual_variance = np.var(residuals)\n",
    "    x_mean = np.mean(trainset)\n",
    "    x_squared = ((trainset - x_mean)**2).sum()\n",
    "    coeff_var = residual_variance/ x_squared\n",
    "    coeff_std = np.sqrt(coeff_var)\n",
    "    print(\"coeff_var, std:\",coeff_var, coeff_std)\n",
    "    # Obtain t test\n",
    "    print(\"Hypothesis: Ho: B1 = 0, Ha: B1 !=0\")\n",
    "    t_value = coeff/coeff_std\n",
    "    print(\"t_value:\", t_value)\n",
    "    degree_of_freedom = len(trainset) - p -1\n",
    "    p_value = stats.t.sf(abs(t_value), degree_of_freedom)*2\n",
    "    print (\"p_value: %.24f\" % p_value)\n",
    "    # Conclusion:\n",
    "    if p_value < 0.05:\n",
    "        print('Reject Ho. The coefficient is significant, and has a relationship with the respond variable')\n",
    "    if p_value > 0.05: \n",
    "        print('Accept Ho. The coefficient is not significant, and does not have a relationship with respond variable')\n",
    "    return None\n",
    "\n",
    "\n",
    "def residual_zero_mean(residuals,p):\n",
    "    n = len(residuals)\n",
    "    residual_mean = np.mean(residuals)\n",
    "    residual_std = np.std(residuals)\n",
    "    t_test = (residual_mean)/(residual_std/np.sqrt(n))\n",
    "    p_value = stats.t.sf(t_test, n - p - 1)\n",
    "    if p_value > 0.05:\n",
    "        print(\"As the p_value is larger than 0.05, there is no sufficient evidence to reject Ho. From this, residuals mean is equal to 0. Linear regression assumption on residuals is appropriate.\")\n",
    "    elif p_value <= 0.05: \n",
    "        print(\"As p_value is smaller than 0.95, there is sufficient evidence to reject Ho. Thus zero mean assumption is not appropriate.\")\n",
    "\n",
    "def tss_rss(y_train, y_pred):\n",
    "    y_mean = np.mean(y_train)\n",
    "    tss = ((y_train - y_mean)**2).sum()\n",
    "    rss = ((y_train - y_pred)**2).sum()\n",
    "    n = len(y_train)\n",
    "    return tss, rss\n",
    "\n",
    "def autocorrelation(residuals):\n",
    "    print(\"Ho: There is no correlation among residuals\")\n",
    "    print(\"Ha: There is correlation between residuals\")\n",
    "    test = durbin_watson(residuals)\n",
    "    print(test)\n",
    "    if test>= 0 and test <= 1.5: \n",
    "        print(\"Reject Ho. There is sufficient evidence indicating a positive correlation in the residuals.\")\n",
    "    elif test > 1.5 and test <= 2.5:\n",
    "        print(\"Do not reject Ho. There is no correlation among residuals.\")\n",
    "    elif test > 2.5:\n",
    "        print(\"Reject Ho. There is sufficient evidence indicating a negative correlation in the residuals\")\n",
    "        \n",
    "def normal_distribution(residuals):\n",
    "    print(\"Ho: The residuals are normally distributed.\")\n",
    "    print(\"Ha: The residuals are not normally distributed.\")\n",
    "    k, p_value = stats.normaltest(residuals)\n",
    "    print(p_value)\n",
    "    if p_value < 0.05:\n",
    "        print(\"Reject Ho. The residuals are not normally distributed.\")\n",
    "    elif p_value > 0.05:\n",
    "        print(\"Do not have sufficient evidence to reject Ho. The residuals are normally distributed.\")"
   ]
  },
  {
   "attachments": {},
   "cell_type": "markdown",
   "metadata": {},
   "source": [
    "### Model Evaluation"
   ]
  },
  {
   "cell_type": "code",
   "execution_count": 401,
   "metadata": {},
   "outputs": [
    {
     "name": "stdout",
     "output_type": "stream",
     "text": [
      "99.53502491410006\n",
      "Reject Ho. At least one of the model coefficients is significant.\n"
     ]
    }
   ],
   "source": [
    "# Model evaluation - F test\n",
    "model_significance(y_train, y_fitted, 4)"
   ]
  },
  {
   "attachments": {},
   "cell_type": "markdown",
   "metadata": {},
   "source": [
    "### Coefficient evaluation\n"
   ]
  },
  {
   "cell_type": "code",
   "execution_count": 402,
   "metadata": {},
   "outputs": [
    {
     "name": "stdout",
     "output_type": "stream",
     "text": [
      "coeff_var, std: 6.761668170922762e-14 2.6003207823118213e-07\n",
      "Hypothesis: Ho: B1 = 0, Ha: B1 !=0\n",
      "t_value: -0.5419961266759061\n",
      "p_value: 0.589131521402272206877626\n",
      "Accept Ho. The coefficient is not significant, and does not have a relationship with respond variable\n"
     ]
    }
   ],
   "source": [
    "# GDP coefficient\n",
    "coefficient_testing(coef_gdp, residuals_train, x_train['gdpPerCapita'],4)"
   ]
  },
  {
   "cell_type": "code",
   "execution_count": 403,
   "metadata": {},
   "outputs": [
    {
     "name": "stdout",
     "output_type": "stream",
     "text": [
      "coeff_var, std: 0.43529444000373696 0.6597684745452278\n",
      "Hypothesis: Ho: B1 = 0, Ha: B1 !=0\n",
      "t_value: -10.425517829433755\n",
      "p_value: 0.000000000000000029249559\n",
      "Reject Ho. The coefficient is significant, and has a relationship with the respond variable\n"
     ]
    }
   ],
   "source": [
    "# Happiness index\n",
    "coefficient_testing(coef_happiness_index, residuals_train, x_train['Ladder score'], 4)"
   ]
  },
  {
   "cell_type": "code",
   "execution_count": 404,
   "metadata": {},
   "outputs": [
    {
     "name": "stdout",
     "output_type": "stream",
     "text": [
      "coeff_var, std: 0.015957298578676973 0.1263222014480312\n",
      "Hypothesis: Ho: B1 = 0, Ha: B1 !=0\n",
      "t_value: -2.5409036708768076\n",
      "p_value: 0.012731085570097283241053\n",
      "Reject Ho. The coefficient is significant, and has a relationship with the respond variable\n"
     ]
    }
   ],
   "source": [
    "# Unemployment rate: rateWb\n",
    "coefficient_testing(coef_unemployment, residuals_train, x_train['rateWb'], 4)"
   ]
  },
  {
   "cell_type": "code",
   "execution_count": 405,
   "metadata": {},
   "outputs": [
    {
     "name": "stdout",
     "output_type": "stream",
     "text": [
      "coeff_var, std: 0.0004601890812429813 0.02145201811585524\n",
      "Hypothesis: Ho: B1 = 0, Ha: B1 !=0\n",
      "t_value: -2.125594485553607\n",
      "p_value: 0.036216073825427901045071\n",
      "Reject Ho. The coefficient is significant, and has a relationship with the respond variable\n"
     ]
    }
   ],
   "source": [
    "# Inflation rate\n",
    "coefficient_testing(coef_inflation, residuals_train, x_train['inflation'],4)"
   ]
  },
  {
   "attachments": {},
   "cell_type": "markdown",
   "metadata": {},
   "source": [
    "## Accuracy Evaluation"
   ]
  },
  {
   "attachments": {},
   "cell_type": "markdown",
   "metadata": {},
   "source": [
    "#### Train set"
   ]
  },
  {
   "cell_type": "code",
   "execution_count": 406,
   "metadata": {},
   "outputs": [],
   "source": [
    "tss_train, rss_train = tss_rss(y_train, y_fitted)"
   ]
  },
  {
   "cell_type": "code",
   "execution_count": 407,
   "metadata": {},
   "outputs": [],
   "source": [
    "n_train = len(y_train)\n",
    "rse_train = np.sqrt(rss_train/(n_train-4-1))\n",
    "r_squared_train = (tss_train-rss_train)/tss_train"
   ]
  },
  {
   "cell_type": "code",
   "execution_count": 408,
   "metadata": {},
   "outputs": [
    {
     "name": "stdout",
     "output_type": "stream",
     "text": [
      "RSE: 7.127437741871609\n",
      "R-squared: 0.5196700966767811\n"
     ]
    }
   ],
   "source": [
    "print(\"RSE:\", rse_train)\n",
    "print(\"R-squared:\", r_squared_train)"
   ]
  },
  {
   "attachments": {},
   "cell_type": "markdown",
   "metadata": {},
   "source": [
    "#### Test set"
   ]
  },
  {
   "cell_type": "code",
   "execution_count": 409,
   "metadata": {},
   "outputs": [],
   "source": [
    "tss_test, rss_test = tss_rss(y_test, y_predict)\n",
    "n_test = len(y_test)\n",
    "rse_test = np.sqrt(rss_test/(n_test - 4-1))\n",
    "r_squared_test = (tss_test-rss_test)/tss_test"
   ]
  },
  {
   "cell_type": "code",
   "execution_count": 410,
   "metadata": {},
   "outputs": [
    {
     "name": "stdout",
     "output_type": "stream",
     "text": [
      "RSE: 7.469885655935812\n",
      "R-squared: 0.5206353952525659\n"
     ]
    }
   ],
   "source": [
    "print(\"RSE:\", rse_test)\n",
    "print(\"R-squared:\", r_squared_test)"
   ]
  },
  {
   "attachments": {},
   "cell_type": "markdown",
   "metadata": {},
   "source": [
    "## Residuals Evaluation"
   ]
  },
  {
   "attachments": {},
   "cell_type": "markdown",
   "metadata": {},
   "source": [
    "Residuals will be assessed for the following factors: \n",
    "- Mean of zero\n",
    "- Normally distributed\n",
    "- Constant variance\n",
    "- Autocorrelation check"
   ]
  },
  {
   "cell_type": "code",
   "execution_count": 411,
   "metadata": {},
   "outputs": [
    {
     "name": "stdout",
     "output_type": "stream",
     "text": [
      "As the p_value is larger than 0.05, there is no sufficient evidence to reject Ho. From this, residuals mean is equal to 0. Linear regression assumption on residuals is appropriate.\n"
     ]
    }
   ],
   "source": [
    "# Test residuals mean of zero\n",
    "residual_zero_mean(residuals_test, 4)"
   ]
  },
  {
   "cell_type": "code",
   "execution_count": 412,
   "metadata": {},
   "outputs": [
    {
     "name": "stdout",
     "output_type": "stream",
     "text": [
      "Ho: The residuals are normally distributed.\n",
      "Ha: The residuals are not normally distributed.\n",
      "0.399369154159251\n",
      "Do not have sufficient evidence to reject Ho. The residuals are normally distributed.\n"
     ]
    },
    {
     "data": {
      "image/png": "[encoded data removed]",
      "text/plain": [
       "<Figure size 640x480 with 1 Axes>"
      ]
     },
     "metadata": {},
     "output_type": "display_data"
    }
   ],
   "source": [
    "# Test for Normal distribution\n",
    "plt.hist(residuals_test, bins=20)\n",
    "\n",
    "normal_distribution(residuals_test)"
   ]
  },
  {
   "cell_type": "code",
   "execution_count": 413,
   "metadata": {},
   "outputs": [
    {
     "data": {
      "text/plain": [
       "<matplotlib.collections.PathCollection at 0x1391af150>"
      ]
     },
     "execution_count": 413,
     "metadata": {},
     "output_type": "execute_result"
    },
    {
     "data": {
      "image/png": "[encoded data removed]",
      "text/plain": [
       "<Figure size 640x480 with 1 Axes>"
      ]
     },
     "metadata": {},
     "output_type": "display_data"
    }
   ],
   "source": [
    "# Test for constant variance\n",
    "plt.scatter(y_test, residuals_test)"
   ]
  },
  {
   "cell_type": "code",
   "execution_count": 414,
   "metadata": {},
   "outputs": [
    {
     "name": "stdout",
     "output_type": "stream",
     "text": [
      "Ho: There is no correlation among residuals\n",
      "Ha: There is correlation between residuals\n",
      "1.4327446891835334\n",
      "Reject Ho. There is sufficient evidence indicating a positive correlation in the residuals.\n"
     ]
    }
   ],
   "source": [
    "# Autocorrelation check\n",
    "autocorrelation(residuals_test)\n",
    "\n"
   ]
  },
  {
   "attachments": {},
   "cell_type": "markdown",
   "metadata": {},
   "source": [
    "## Model Fit & Evaluation - Interaction terms added"
   ]
  },
  {
   "attachments": {},
   "cell_type": "markdown",
   "metadata": {},
   "source": []
  },
  {
   "cell_type": "code",
   "execution_count": 415,
   "metadata": {},
   "outputs": [],
   "source": [
    "poly = PolynomialFeatures(interaction_only=True)\n",
    "x_train_interact = poly.fit_transform(x_train)\n",
    "x_test_interact = poly.fit_transform(x_test)"
   ]
  },
  {
   "cell_type": "code",
   "execution_count": 416,
   "metadata": {},
   "outputs": [],
   "source": [
    "# Rename columns\n",
    "df_interact_train = pd.DataFrame(x_train_interact, columns=poly.get_feature_names_out())\n",
    "df_interact_test = pd.DataFrame(x_test_interact, columns=poly.get_feature_names_out())"
   ]
  },
  {
   "cell_type": "code",
   "execution_count": 417,
   "metadata": {},
   "outputs": [
    {
     "name": "stdout",
     "output_type": "stream",
     "text": [
      "[1.00000000e+00 3.25582463e-07 1.98797535e-14 2.95417864e-01\n",
      " 2.74912112e-01 1.54501615e-06 2.84925013e-07 2.97996450e-05\n",
      " 6.81980798e-03 6.22516365e-01 3.09388928e-01]\n"
     ]
    },
    {
     "data": {
      "text/html": [
       "<div>\n",
       "<style scoped>\n",
       "    .dataframe tbody tr th:only-of-type {\n",
       "        vertical-align: middle;\n",
       "    }\n",
       "\n",
       "    .dataframe tbody tr th {\n",
       "        vertical-align: top;\n",
       "    }\n",
       "\n",
       "    .dataframe thead th {\n",
       "        text-align: right;\n",
       "    }\n",
       "</style>\n",
       "<table border=\"1\" class=\"dataframe\">\n",
       "  <thead>\n",
       "    <tr style=\"text-align: right;\">\n",
       "      <th></th>\n",
       "      <th>Feature</th>\n",
       "      <th>p-values</th>\n",
       "      <th>scores</th>\n",
       "    </tr>\n",
       "  </thead>\n",
       "  <tbody>\n",
       "    <tr>\n",
       "      <th>2</th>\n",
       "      <td>Ladder score</td>\n",
       "      <td>1.987975e-14</td>\n",
       "      <td>81.480902</td>\n",
       "    </tr>\n",
       "    <tr>\n",
       "      <th>6</th>\n",
       "      <td>gdpPerCapita rateWb</td>\n",
       "      <td>2.849250e-07</td>\n",
       "      <td>30.545359</td>\n",
       "    </tr>\n",
       "    <tr>\n",
       "      <th>1</th>\n",
       "      <td>gdpPerCapita</td>\n",
       "      <td>3.255825e-07</td>\n",
       "      <td>30.203696</td>\n",
       "    </tr>\n",
       "    <tr>\n",
       "      <th>5</th>\n",
       "      <td>gdpPerCapita Ladder score</td>\n",
       "      <td>1.545016e-06</td>\n",
       "      <td>26.291626</td>\n",
       "    </tr>\n",
       "    <tr>\n",
       "      <th>7</th>\n",
       "      <td>gdpPerCapita inflation</td>\n",
       "      <td>2.979964e-05</td>\n",
       "      <td>19.240934</td>\n",
       "    </tr>\n",
       "    <tr>\n",
       "      <th>8</th>\n",
       "      <td>Ladder score rateWb</td>\n",
       "      <td>6.819808e-03</td>\n",
       "      <td>7.650665</td>\n",
       "    </tr>\n",
       "    <tr>\n",
       "      <th>4</th>\n",
       "      <td>inflation</td>\n",
       "      <td>2.749121e-01</td>\n",
       "      <td>1.205945</td>\n",
       "    </tr>\n",
       "    <tr>\n",
       "      <th>3</th>\n",
       "      <td>rateWb</td>\n",
       "      <td>2.954179e-01</td>\n",
       "      <td>1.106936</td>\n",
       "    </tr>\n",
       "    <tr>\n",
       "      <th>10</th>\n",
       "      <td>rateWb inflation</td>\n",
       "      <td>3.093889e-01</td>\n",
       "      <td>1.044430</td>\n",
       "    </tr>\n",
       "    <tr>\n",
       "      <th>9</th>\n",
       "      <td>Ladder score inflation</td>\n",
       "      <td>6.225164e-01</td>\n",
       "      <td>0.243938</td>\n",
       "    </tr>\n",
       "    <tr>\n",
       "      <th>0</th>\n",
       "      <td>1</td>\n",
       "      <td>1.000000e+00</td>\n",
       "      <td>0.000000</td>\n",
       "    </tr>\n",
       "  </tbody>\n",
       "</table>\n",
       "</div>"
      ],
      "text/plain": [
       "                      Feature      p-values     scores\n",
       "2                Ladder score  1.987975e-14  81.480902\n",
       "6         gdpPerCapita rateWb  2.849250e-07  30.545359\n",
       "1                gdpPerCapita  3.255825e-07  30.203696\n",
       "5   gdpPerCapita Ladder score  1.545016e-06  26.291626\n",
       "7      gdpPerCapita inflation  2.979964e-05  19.240934\n",
       "8         Ladder score rateWb  6.819808e-03   7.650665\n",
       "4                   inflation  2.749121e-01   1.205945\n",
       "3                      rateWb  2.954179e-01   1.106936\n",
       "10           rateWb inflation  3.093889e-01   1.044430\n",
       "9      Ladder score inflation  6.225164e-01   0.243938\n",
       "0                           1  1.000000e+00   0.000000"
      ]
     },
     "execution_count": 417,
     "metadata": {},
     "output_type": "execute_result"
    }
   ],
   "source": [
    "selection = SelectKBest(score_func=f_regression, k=4)\n",
    "results = selection.fit(df_interact_train, y_train)\n",
    "names = pd.DataFrame(df_interact_train.columns)\n",
    "\n",
    "print (results.pvalues_)\n",
    "\n",
    "results_df=pd.DataFrame(results.pvalues_)\n",
    "results_score = pd.DataFrame(results.scores_)\n",
    "\n",
    "#Concat and name columns\n",
    "scored=pd.concat([names,results_df, results_score], axis=1)\n",
    "scored.columns = [\"Feature\", \"p-values\", \"scores\"]\n",
    "scored.sort_values(by=['p-values']).head(20)"
   ]
  },
  {
   "attachments": {},
   "cell_type": "markdown",
   "metadata": {},
   "source": [
    "Variable selected: Aiming at 15 observations per variable:'Ladder score', 'gdpPerCapita', 'gdpPerCapita rateWb', 'gdpPerCapita Ladder score', 'rateWb'\n"
   ]
  },
  {
   "cell_type": "code",
   "execution_count": 418,
   "metadata": {},
   "outputs": [
    {
     "name": "stdout",
     "output_type": "stream",
     "text": [
      "2                  Ladder score\n",
      "6           gdpPerCapita rateWb\n",
      "1                  gdpPerCapita\n",
      "5     gdpPerCapita Ladder score\n",
      "7        gdpPerCapita inflation\n",
      "8           Ladder score rateWb\n",
      "4                     inflation\n",
      "3                        rateWb\n",
      "10             rateWb inflation\n",
      "9        Ladder score inflation\n",
      "0                             1\n",
      "Name: Feature, dtype: object\n"
     ]
    }
   ],
   "source": [
    "scored_sorted = scored.sort_values(by=['p-values'])\n",
    "print(scored_sorted['Feature'])\n",
    "columns = list(['Ladder score', 'gdpPerCapita', 'gdpPerCapita rateWb', 'gdpPerCapita Ladder score', 'rateWb'])"
   ]
  },
  {
   "cell_type": "code",
   "execution_count": 419,
   "metadata": {},
   "outputs": [],
   "source": [
    "df_interact_train = df_interact_train[columns]\n",
    "df_interact_test = df_interact_test[columns]"
   ]
  },
  {
   "cell_type": "code",
   "execution_count": 420,
   "metadata": {},
   "outputs": [
    {
     "data": {
      "text/html": [
       "<div>\n",
       "<style scoped>\n",
       "    .dataframe tbody tr th:only-of-type {\n",
       "        vertical-align: middle;\n",
       "    }\n",
       "\n",
       "    .dataframe tbody tr th {\n",
       "        vertical-align: top;\n",
       "    }\n",
       "\n",
       "    .dataframe thead th {\n",
       "        text-align: right;\n",
       "    }\n",
       "</style>\n",
       "<table border=\"1\" class=\"dataframe\">\n",
       "  <thead>\n",
       "    <tr style=\"text-align: right;\">\n",
       "      <th></th>\n",
       "      <th>Ladder score</th>\n",
       "      <th>gdpPerCapita</th>\n",
       "      <th>gdpPerCapita rateWb</th>\n",
       "      <th>gdpPerCapita Ladder score</th>\n",
       "      <th>rateWb</th>\n",
       "    </tr>\n",
       "  </thead>\n",
       "  <tbody>\n",
       "    <tr>\n",
       "      <th>0</th>\n",
       "      <td>3.9822</td>\n",
       "      <td>1.347076e+05</td>\n",
       "      <td>1.683845e+06</td>\n",
       "      <td>5.364326e+05</td>\n",
       "      <td>12.5</td>\n",
       "    </tr>\n",
       "    <tr>\n",
       "      <th>1</th>\n",
       "      <td>6.8937</td>\n",
       "      <td>7.851594e+06</td>\n",
       "      <td>6.359791e+07</td>\n",
       "      <td>5.412654e+07</td>\n",
       "      <td>8.1</td>\n",
       "    </tr>\n",
       "    <tr>\n",
       "      <th>2</th>\n",
       "      <td>5.6304</td>\n",
       "      <td>7.112773e+05</td>\n",
       "      <td>1.066916e+07</td>\n",
       "      <td>4.004776e+06</td>\n",
       "      <td>15.0</td>\n",
       "    </tr>\n",
       "    <tr>\n",
       "      <th>3</th>\n",
       "      <td>6.5891</td>\n",
       "      <td>1.571894e+06</td>\n",
       "      <td>7.859472e+06</td>\n",
       "      <td>1.035737e+07</td>\n",
       "      <td>5.0</td>\n",
       "    </tr>\n",
       "    <tr>\n",
       "      <th>4</th>\n",
       "      <td>5.6325</td>\n",
       "      <td>7.777076e+05</td>\n",
       "      <td>1.236555e+07</td>\n",
       "      <td>4.380438e+06</td>\n",
       "      <td>15.9</td>\n",
       "    </tr>\n",
       "  </tbody>\n",
       "</table>\n",
       "</div>"
      ],
      "text/plain": [
       "   Ladder score  gdpPerCapita  gdpPerCapita rateWb  gdpPerCapita Ladder score   \n",
       "0        3.9822  1.347076e+05         1.683845e+06               5.364326e+05  \\\n",
       "1        6.8937  7.851594e+06         6.359791e+07               5.412654e+07   \n",
       "2        5.6304  7.112773e+05         1.066916e+07               4.004776e+06   \n",
       "3        6.5891  1.571894e+06         7.859472e+06               1.035737e+07   \n",
       "4        5.6325  7.777076e+05         1.236555e+07               4.380438e+06   \n",
       "\n",
       "   rateWb  \n",
       "0    12.5  \n",
       "1     8.1  \n",
       "2    15.0  \n",
       "3     5.0  \n",
       "4    15.9  "
      ]
     },
     "execution_count": 420,
     "metadata": {},
     "output_type": "execute_result"
    }
   ],
   "source": [
    "df_interact_train.head(5)"
   ]
  },
  {
   "cell_type": "code",
   "execution_count": 421,
   "metadata": {},
   "outputs": [
    {
     "data": {
      "text/html": [
       "<style>#sk-container-id-15 {color: black;background-color: white;}#sk-container-id-15 pre{padding: 0;}#sk-container-id-15 div.sk-toggleable {background-color: white;}#sk-container-id-15 label.sk-toggleable__label {cursor: pointer;display: block;width: 100%;margin-bottom: 0;padding: 0.3em;box-sizing: border-box;text-align: center;}#sk-container-id-15 label.sk-toggleable__label-arrow:before {content: \"▸\";float: left;margin-right: 0.25em;color: #696969;}#sk-container-id-15 label.sk-toggleable__label-arrow:hover:before {color: black;}#sk-container-id-15 div.sk-estimator:hover label.sk-toggleable__label-arrow:before {color: black;}#sk-container-id-15 div.sk-toggleable__content {max-height: 0;max-width: 0;overflow: hidden;text-align: left;background-color: #f0f8ff;}#sk-container-id-15 div.sk-toggleable__content pre {margin: 0.2em;color: black;border-radius: 0.25em;background-color: #f0f8ff;}#sk-container-id-15 input.sk-toggleable__control:checked~div.sk-toggleable__content {max-height: 200px;max-width: 100%;overflow: auto;}#sk-container-id-15 input.sk-toggleable__control:checked~label.sk-toggleable__label-arrow:before {content: \"▾\";}#sk-container-id-15 div.sk-estimator input.sk-toggleable__control:checked~label.sk-toggleable__label {background-color: #d4ebff;}#sk-container-id-15 div.sk-label input.sk-toggleable__control:checked~label.sk-toggleable__label {background-color: #d4ebff;}#sk-container-id-15 input.sk-hidden--visually {border: 0;clip: rect(1px 1px 1px 1px);clip: rect(1px, 1px, 1px, 1px);height: 1px;margin: -1px;overflow: hidden;padding: 0;position: absolute;width: 1px;}#sk-container-id-15 div.sk-estimator {font-family: monospace;background-color: #f0f8ff;border: 1px dotted black;border-radius: 0.25em;box-sizing: border-box;margin-bottom: 0.5em;}#sk-container-id-15 div.sk-estimator:hover {background-color: #d4ebff;}#sk-container-id-15 div.sk-parallel-item::after {content: \"\";width: 100%;border-bottom: 1px solid gray;flex-grow: 1;}#sk-container-id-15 div.sk-label:hover label.sk-toggleable__label {background-color: #d4ebff;}#sk-container-id-15 div.sk-serial::before {content: \"\";position: absolute;border-left: 1px solid gray;box-sizing: border-box;top: 0;bottom: 0;left: 50%;z-index: 0;}#sk-container-id-15 div.sk-serial {display: flex;flex-direction: column;align-items: center;background-color: white;padding-right: 0.2em;padding-left: 0.2em;position: relative;}#sk-container-id-15 div.sk-item {position: relative;z-index: 1;}#sk-container-id-15 div.sk-parallel {display: flex;align-items: stretch;justify-content: center;background-color: white;position: relative;}#sk-container-id-15 div.sk-item::before, #sk-container-id-15 div.sk-parallel-item::before {content: \"\";position: absolute;border-left: 1px solid gray;box-sizing: border-box;top: 0;bottom: 0;left: 50%;z-index: -1;}#sk-container-id-15 div.sk-parallel-item {display: flex;flex-direction: column;z-index: 1;position: relative;background-color: white;}#sk-container-id-15 div.sk-parallel-item:first-child::after {align-self: flex-end;width: 50%;}#sk-container-id-15 div.sk-parallel-item:last-child::after {align-self: flex-start;width: 50%;}#sk-container-id-15 div.sk-parallel-item:only-child::after {width: 0;}#sk-container-id-15 div.sk-dashed-wrapped {border: 1px dashed gray;margin: 0 0.4em 0.5em 0.4em;box-sizing: border-box;padding-bottom: 0.4em;background-color: white;}#sk-container-id-15 div.sk-label label {font-family: monospace;font-weight: bold;display: inline-block;line-height: 1.2em;}#sk-container-id-15 div.sk-label-container {text-align: center;}#sk-container-id-15 div.sk-container {/* jupyter's `normalize.less` sets `[hidden] { display: none; }` but bootstrap.min.css set `[hidden] { display: none !important; }` so we also need the `!important` here to be able to override the default hidden behavior on the sphinx rendered scikit-learn.org. See: https://github.com/scikit-learn/scikit-learn/issues/21755 */display: inline-block !important;position: relative;}#sk-container-id-15 div.sk-text-repr-fallback {display: none;}</style><div id=\"sk-container-id-15\" class=\"sk-top-container\"><div class=\"sk-text-repr-fallback\"><pre>LinearRegression()</pre><b>In a Jupyter environment, please rerun this cell to show the HTML representation or trust the notebook. <br />On GitHub, the HTML representation is unable to render, please try loading this page with nbviewer.org.</b></div><div class=\"sk-container\" hidden><div class=\"sk-item\"><div class=\"sk-estimator sk-toggleable\"><input class=\"sk-toggleable__control sk-hidden--visually\" id=\"sk-estimator-id-15\" type=\"checkbox\" checked><label for=\"sk-estimator-id-15\" class=\"sk-toggleable__label sk-toggleable__label-arrow\">LinearRegression</label><div class=\"sk-toggleable__content\"><pre>LinearRegression()</pre></div></div></div></div></div>"
      ],
      "text/plain": [
       "LinearRegression()"
      ]
     },
     "execution_count": 421,
     "metadata": {},
     "output_type": "execute_result"
    }
   ],
   "source": [
    "model_int = linear_model.LinearRegression()\n",
    "model_int.fit(df_interact_train, y_train)"
   ]
  },
  {
   "cell_type": "code",
   "execution_count": 422,
   "metadata": {},
   "outputs": [],
   "source": [
    "# y fitted and y predict\n",
    "y_fitted_int = model_int.predict(df_interact_train)\n",
    "y_predict_int = model_int.predict(df_interact_test)"
   ]
  },
  {
   "cell_type": "code",
   "execution_count": 423,
   "metadata": {},
   "outputs": [],
   "source": [
    "# Residuals train and test\n",
    "residuals_interact_train = y_train - y_fitted_int\n",
    "residuals_interact_test = y_test - y_predict_int"
   ]
  },
  {
   "cell_type": "code",
   "execution_count": 424,
   "metadata": {},
   "outputs": [
    {
     "data": {
      "text/plain": [
       "array([-6.84575486e+00, -1.76406132e-05,  2.79248318e-08,  2.44572582e-06,\n",
       "       -2.97849306e-01])"
      ]
     },
     "execution_count": 424,
     "metadata": {},
     "output_type": "execute_result"
    }
   ],
   "source": [
    "# coefficient\n",
    "df_interact_train.columns\n",
    "coef_int_happiness = model_int.coef_[0]\n",
    "coef_int_gdp = model_int.coef_[1]\n",
    "coef_int_gdp_unempl = model_int.coef_[2]\n",
    "coef_int_gdp_happiness = model_int.coef_[3]\n",
    "coef_int_unemploy = model_int.coef_[4]\n",
    "model_int.coef_"
   ]
  },
  {
   "cell_type": "code",
   "execution_count": 425,
   "metadata": {},
   "outputs": [
    {
     "name": "stdout",
     "output_type": "stream",
     "text": [
      "interaction_model = 62.020719  -6.845755 happiness_index -0.000018 gdpPerCapita + 0.000000 unemployment + 0.000002  gdp*happiness_index -0.297849 Unemployment_rate\n"
     ]
    }
   ],
   "source": [
    "print(\"interaction_model = %f  %f happiness_index %f gdpPerCapita + %f unemployment + %f  gdp*happiness_index %f Unemployment_rate\" % (model_int.intercept_, coef_int_happiness, coef_int_gdp, coef_int_gdp_unempl, coef_int_gdp_happiness, coef_int_unemploy))"
   ]
  },
  {
   "attachments": {},
   "cell_type": "markdown",
   "metadata": {},
   "source": [
    "### Model & coefficient evaluation"
   ]
  },
  {
   "cell_type": "code",
   "execution_count": 426,
   "metadata": {},
   "outputs": [
    {
     "name": "stdout",
     "output_type": "stream",
     "text": [
      "158.43703237439644\n",
      "Reject Ho. At least one of the model coefficients is significant.\n"
     ]
    }
   ],
   "source": [
    "# F_test\n",
    "model_significance(y_train, y_fitted_int, 5)"
   ]
  },
  {
   "cell_type": "code",
   "execution_count": 427,
   "metadata": {},
   "outputs": [
    {
     "name": "stdout",
     "output_type": "stream",
     "text": [
      "coeff_var, std: 0.3306160679801843 0.5749922329737892\n",
      "Hypothesis: Ho: B1 = 0, Ha: B1 !=0\n",
      "t_value: -11.90582145484222\n",
      "p_value: 0.000000000000000000029443\n",
      "Reject Ho. The coefficient is significant, and has a relationship with the respond variable\n"
     ]
    }
   ],
   "source": [
    "coefficient_testing(coef_int_happiness, residuals_interact_train, df_interact_train['Ladder score'],5)"
   ]
  },
  {
   "cell_type": "code",
   "execution_count": 428,
   "metadata": {},
   "outputs": [
    {
     "name": "stdout",
     "output_type": "stream",
     "text": [
      "coeff_var, std: 5.135641391693531e-14 2.2661953560303514e-07\n",
      "Hypothesis: Ho: B1 = 0, Ha: B1 !=0\n",
      "t_value: -77.84242056653986\n",
      "p_value: 0.000000000000000000000000\n",
      "Reject Ho. The coefficient is significant, and has a relationship with the respond variable\n"
     ]
    }
   ],
   "source": [
    "coefficient_testing(coef_int_gdp, residuals_interact_train, df_interact_train['gdpPerCapita'],5)"
   ]
  },
  {
   "cell_type": "code",
   "execution_count": 429,
   "metadata": {},
   "outputs": [
    {
     "name": "stdout",
     "output_type": "stream",
     "text": [
      "coeff_var, std: 1.2319372878876994e-15 3.509896419964127e-08\n",
      "Hypothesis: Ho: B1 = 0, Ha: B1 !=0\n",
      "t_value: 0.7956027325472029\n",
      "p_value: 0.428333410766921218737480\n",
      "Accept Ho. The coefficient is not significant, and does not have a relationship with respond variable\n"
     ]
    }
   ],
   "source": [
    "coefficient_testing(coef_int_gdp_unempl, residuals_interact_train, df_interact_train['gdpPerCapita rateWb'],5)"
   ]
  },
  {
   "cell_type": "code",
   "execution_count": 430,
   "metadata": {},
   "outputs": [
    {
     "name": "stdout",
     "output_type": "stream",
     "text": [
      "coeff_var, std: 1.0080839937345074e-15 3.175033848220374e-08\n",
      "Hypothesis: Ho: B1 = 0, Ha: B1 !=0\n",
      "t_value: 77.02991326752556\n",
      "p_value: 0.000000000000000000000000\n",
      "Reject Ho. The coefficient is significant, and has a relationship with the respond variable\n"
     ]
    }
   ],
   "source": [
    "coefficient_testing(coef_int_gdp_happiness, residuals_interact_train, df_interact_train['gdpPerCapita Ladder score'],5)"
   ]
  },
  {
   "cell_type": "code",
   "execution_count": 431,
   "metadata": {},
   "outputs": [
    {
     "name": "stdout",
     "output_type": "stream",
     "text": [
      "coeff_var, std: 0.012119932686534364 0.11009056583801521\n",
      "Hypothesis: Ho: B1 = 0, Ha: B1 !=0\n",
      "t_value: -2.705493461504072\n",
      "p_value: 0.008142435895198913212156\n",
      "Reject Ho. The coefficient is significant, and has a relationship with the respond variable\n"
     ]
    }
   ],
   "source": [
    "coefficient_testing(coef_int_unemploy, residuals_interact_train, df_interact_train['rateWb'],5)"
   ]
  },
  {
   "cell_type": "code",
   "execution_count": 432,
   "metadata": {},
   "outputs": [],
   "source": [
    "tss_int, rss_int = tss_rss(y_train, y_fitted_int)\n",
    "n_int = len(y_train)"
   ]
  },
  {
   "cell_type": "code",
   "execution_count": 433,
   "metadata": {},
   "outputs": [
    {
     "name": "stdout",
     "output_type": "stream",
     "text": [
      "6.245641731936873 0.6351784691560468\n"
     ]
    }
   ],
   "source": [
    "rse_int = np.sqrt(rss_int/(n_int - 5 -1))\n",
    "r_squared_int = (tss_int - rss_int)/tss_int\n",
    "print(rse_int, r_squared_int)"
   ]
  },
  {
   "cell_type": "code",
   "execution_count": 434,
   "metadata": {},
   "outputs": [
    {
     "name": "stdout",
     "output_type": "stream",
     "text": [
      "6.592513024078231 0.6399641216660965\n"
     ]
    }
   ],
   "source": [
    "tss_int_test, rss_int_test = tss_rss(y_test, y_predict_int)\n",
    "n_int_test = len(y_test)\n",
    "rse_int_test = np.sqrt(rss_int_test/(n_int_test - 5-1))\n",
    "r_squared_int_test = (tss_int_test - rss_int_test)/tss_int_test\n",
    "print(rse_int_test, r_squared_int_test)"
   ]
  },
  {
   "attachments": {},
   "cell_type": "markdown",
   "metadata": {},
   "source": [
    "### Residuals evaluation"
   ]
  },
  {
   "cell_type": "code",
   "execution_count": 435,
   "metadata": {},
   "outputs": [
    {
     "name": "stdout",
     "output_type": "stream",
     "text": [
      "Ho: The residuals are normally distributed.\n",
      "Ha: The residuals are not normally distributed.\n",
      "0.5713697294631175\n",
      "Do not have sufficient evidence to reject Ho. The residuals are normally distributed.\n",
      "Ho: The residuals are normally distributed.\n",
      "Ha: The residuals are not normally distributed.\n",
      "0.9524076237691032\n",
      "Do not have sufficient evidence to reject Ho. The residuals are normally distributed.\n"
     ]
    },
    {
     "data": {
      "image/png": "[encoded data removed]",
      "text/plain": [
       "<Figure size 640x480 with 1 Axes>"
      ]
     },
     "metadata": {},
     "output_type": "display_data"
    }
   ],
   "source": [
    "# Histogram\n",
    "plt.hist(residuals_interact_train)\n",
    "plt.hist(residuals_interact_test)\n",
    "plt.legend(['Train', 'Test'])\n",
    "normal_distribution(residuals_interact_train)\n",
    "normal_distribution(residuals_interact_test)"
   ]
  },
  {
   "cell_type": "code",
   "execution_count": 436,
   "metadata": {},
   "outputs": [
    {
     "name": "stdout",
     "output_type": "stream",
     "text": [
      "As the p_value is larger than 0.05, there is no sufficient evidence to reject Ho. From this, residuals mean is equal to 0. Linear regression assumption on residuals is appropriate.\n",
      "As the p_value is larger than 0.05, there is no sufficient evidence to reject Ho. From this, residuals mean is equal to 0. Linear regression assumption on residuals is appropriate.\n"
     ]
    }
   ],
   "source": [
    "# Zero mean\n",
    "residual_zero_mean(residuals_interact_train,5)\n",
    "residual_zero_mean(residuals_interact_test,5)"
   ]
  },
  {
   "cell_type": "code",
   "execution_count": 437,
   "metadata": {},
   "outputs": [
    {
     "data": {
      "text/plain": [
       "<matplotlib.legend.Legend at 0x13a311590>"
      ]
     },
     "execution_count": 437,
     "metadata": {},
     "output_type": "execute_result"
    },
    {
     "data": {
      "image/png": "[encoded data removed]",
      "text/plain": [
       "<Figure size 640x480 with 1 Axes>"
      ]
     },
     "metadata": {},
     "output_type": "display_data"
    }
   ],
   "source": [
    "# Constant variance\n",
    "plt.scatter(y_train,residuals_interact_train)\n",
    "plt.scatter(y_test, residuals_interact_test)\n",
    "plt.legend(['Train', 'Test'])\n"
   ]
  },
  {
   "cell_type": "code",
   "execution_count": 438,
   "metadata": {},
   "outputs": [
    {
     "name": "stdout",
     "output_type": "stream",
     "text": [
      "Ho: There is no correlation among residuals\n",
      "Ha: There is correlation between residuals\n",
      "2.185752798964202\n",
      "Do not reject Ho. There is no correlation among residuals.\n",
      "Ho: There is no correlation among residuals\n",
      "Ha: There is correlation between residuals\n",
      "1.3696468753351843\n",
      "Reject Ho. There is sufficient evidence indicating a positive correlation in the residuals.\n"
     ]
    }
   ],
   "source": [
    "# Autocorrelation\n",
    "autocorrelation(residuals_interact_train)\n",
    "autocorrelation(residuals_interact_test)"
   ]
  },
  {
   "attachments": {},
   "cell_type": "markdown",
   "metadata": {},
   "source": [
    "# Overall Conclusion"
   ]
  },
  {
   "attachments": {},
   "cell_type": "markdown",
   "metadata": {},
   "source": [
    "With multiple linear regression without interaction terms, the following predictors have significant impacts on the response variable (birth rate): \n",
    "- Happiness index\n",
    "- Unemployment\n",
    "- Inflation\n",
    "\n",
    "Noted that the increase in social support and healthy life expectancy increase the birth rates. The 4 predictors in the model were able to explain 52.06% of the model variations in the test set. "
   ]
  },
  {
   "attachments": {},
   "cell_type": "markdown",
   "metadata": {},
   "source": [
    "Through the incorporation of the interaction terms and variable selection, the following variables show significant impacts on the response variable (birth rate): \n",
    "- Happiness index\n",
    "- GDP\n",
    "- Unemployment rate\n",
    "- Interaction term between GDP and happiness index\n",
    "\n",
    "Noted that the r_squared score, which represents how well these predictors were able to explain the model variations, increases to  64.00% in the test set with interaction term in comparison to 52.06%. In addition, the interaction term model showed a decrease in the RSE (residuals squared errors), represented the errors not explained by the model, to RSE 6.59 in the test set from RSE 7.47 in the test set from the original model. "
   ]
  },
  {
   "attachments": {},
   "cell_type": "markdown",
   "metadata": {},
   "source": [
    "Noted that happiness index also includes measurements of the following: Freedom to make life choices, social support, healthy life expectancy, perceptions of corruptions, and generosity. Due to high collinearity between this predictors, only happiness index was included in the model. \n",
    "\n",
    "Based on the results. An interesting insight is that the coefficient for happiness index in both models is negative, indicating high happiness index negatively affect the birth rate. Taken into account the high correlation between happiness index and freedom to make life choices, and other social aspects, there is a possibility that high level of social support and freedom to make life choices criteria from the specific country encourages individuals to live the life that they prefer, with or without children, thus affecting the birth rates. However, unemployment rate and inflation rates are also predictors that negatively affect the birth rates in the models. "
   ]
  },
  {
   "attachments": {},
   "cell_type": "markdown",
   "metadata": {},
   "source": [
    "Noted that for both model (without interaction terms and with interaction terms), the error terms conform with the following criteria: \n",
    "- Normally distributed\n",
    "- Constant variance\n",
    "- Shows no autocorrelation\n",
    "- Shows means of zero\n"
   ]
  }
 ],
 "metadata": {
  "kernelspec": {
   "display_name": "global-birth-rate-analysis",
   "language": "python",
   "name": "python3"
  },
  "language_info": {
   "codemirror_mode": {
    "name": "ipython",
    "version": 3
   },
   "file_extension": ".py",
   "mimetype": "text/x-python",
   "name": "python",
   "nbconvert_exporter": "python",
   "pygments_lexer": "ipython3",
   "version": "3.11.3"
  },
  "orig_nbformat": 4
 },
 "nbformat": 4,
 "nbformat_minor": 2
}
