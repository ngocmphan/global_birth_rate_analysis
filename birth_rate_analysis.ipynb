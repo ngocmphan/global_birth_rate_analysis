{
 "cells": [
  {
   "attachments": {},
   "cell_type": "markdown",
   "metadata": {},
   "source": [
    "# Global birth rate analysis"
   ]
  },
  {
   "attachments": {},
   "cell_type": "markdown",
   "metadata": {},
   "source": [
    "Birth rate by country and the global birth rate will be analyzed under the impacts of the following factors: \n",
    "- Financial: GDP per Capita\n",
    "- Social: Happiness index, Social support score, life expectancy, freedom to make life choices, generosity,perception of corruption\n",
    "- Jobs: Unemployment rate"
   ]
  },
  {
   "cell_type": "code",
   "execution_count": 430,
   "metadata": {},
   "outputs": [],
   "source": [
    "import pandas as pd\n",
    "import numpy as np\n",
    "from sklearn.model_selection import train_test_split\n",
    "from sklearn import linear_model\n",
    "from scipy import stats\n",
    "import statsmodels.api as sm\n",
    "import matplotlib.pyplot as plt\n",
    "from statsmodels.stats.stattools import durbin_watson"
   ]
  },
  {
   "attachments": {},
   "cell_type": "markdown",
   "metadata": {},
   "source": [
    "## Data Import & Data Preparation"
   ]
  },
  {
   "cell_type": "code",
   "execution_count": 431,
   "metadata": {},
   "outputs": [],
   "source": [
    "# Data import\n",
    "df_birth_rate = pd.read_csv(\"birth_rate.csv\")\n",
    "df_gdp = pd.read_csv(\"GDP.csv\")\n",
    "df_happiness_index = pd.read_excel(\"DataForFigure2.1WHR2023.xls\")\n",
    "df_unemployment_rate = pd.read_csv('unemployment_rate.csv')\n",
    "df_inflation_rate = pd.read_excel('inflation-data.xlsx',sheet_name='hcpi_a')\n"
   ]
  },
  {
   "cell_type": "code",
   "execution_count": 432,
   "metadata": {},
   "outputs": [],
   "source": [
    "# Drop duplicates & rename columns\n",
    "df_birth_rate = df_birth_rate.rename({'country': 'Country'}, axis='columns')\n",
    "df_gdp = df_gdp.drop_duplicates(subset='country', keep='first')\n",
    "df_gdp = df_gdp.rename({'country': 'Country'}, axis='columns')\n",
    "df_happiness_index = df_happiness_index.rename({'Country name': 'Country'},\n",
    "                                               axis='columns')\n",
    "df_unemployment_rate = df_unemployment_rate.rename({'country': 'Country'},\n",
    "                                                    axis='columns')\n",
    "df_inflation_rate = df_inflation_rate.rename({2022:'inflation'}, axis='columns')\n"
   ]
  },
  {
   "cell_type": "code",
   "execution_count": 433,
   "metadata": {},
   "outputs": [],
   "source": [
    "# Preliminary variable selection\n",
    "df_birth_rate = df_birth_rate[['birthRate', 'Country']]\n",
    "df_gdp = df_gdp[['Country', 'gdpPerCapita']]\n",
    "df_happiness_index = df_happiness_index[['Country', 'Ladder score', 'Social support', \n",
    "                                         'Healthy life expectancy',\n",
    "                                         'Freedom to make life choices', \n",
    "                                         'Generosity', 'Perceptions of corruption']]\n",
    "df_unemployment_rate = df_unemployment_rate[['Country', 'rateWb']]\n",
    "df_inflation_rate = df_inflation_rate[['Country', 'inflation']]\n"
   ]
  },
  {
   "cell_type": "code",
   "execution_count": 434,
   "metadata": {},
   "outputs": [
    {
     "data": {
      "text/plain": [
       "Index(['birthRate', 'Country', 'gdpPerCapita', 'Ladder score',\n",
       "       'Social support', 'Healthy life expectancy',\n",
       "       'Freedom to make life choices', 'Generosity',\n",
       "       'Perceptions of corruption', 'rateWb', 'inflation'],\n",
       "      dtype='object')"
      ]
     },
     "execution_count": 434,
     "metadata": {},
     "output_type": "execute_result"
    }
   ],
   "source": [
    "# Main data frame preparation\n",
    "df_final = df_birth_rate.merge(df_gdp,\n",
    "                                on='Country').merge(df_happiness_index,\n",
    "                                                     on='Country').merge(df_unemployment_rate, on='Country').merge(df_inflation_rate, on='Country')\n",
    "\n",
    "df_final.columns"
   ]
  },
  {
   "cell_type": "code",
   "execution_count": 435,
   "metadata": {},
   "outputs": [],
   "source": [
    "df_final[['gdpPerCapita', 'Social support', 'Freedom to make life choices', 'Generosity', 'Perceptions of corruption']] = df_final[['gdpPerCapita', 'Social support', 'Freedom to make life choices', 'Generosity', 'Perceptions of corruption']]*100\n",
    "df_final.loc[8, 'inflation'] = 3.9"
   ]
  },
  {
   "cell_type": "code",
   "execution_count": 436,
   "metadata": {},
   "outputs": [],
   "source": [
    "# Data partition\n",
    "df_predictors = df_final[['gdpPerCapita', 'Ladder score', 'Social support', \n",
    "                          'Healthy life expectancy', 'Freedom to make life choices',\n",
    "                          'Generosity', 'Perceptions of corruption', 'rateWb',\n",
    "                            'inflation']]\n",
    "df_target = df_final['birthRate']\n",
    "\n",
    "x_train, x_test, y_train, y_test = train_test_split(df_predictors,df_target,test_size=0.25)\n"
   ]
  },
  {
   "attachments": {},
   "cell_type": "markdown",
   "metadata": {},
   "source": [
    "## Model Fit & Model result"
   ]
  },
  {
   "cell_type": "markdown",
   "metadata": {},
   "source": []
  },
  {
   "cell_type": "code",
   "execution_count": 437,
   "metadata": {},
   "outputs": [],
   "source": [
    "model = linear_model.LinearRegression()"
   ]
  },
  {
   "cell_type": "code",
   "execution_count": 438,
   "metadata": {},
   "outputs": [
    {
     "data": {
      "text/html": [
       "<style>#sk-container-id-12 {color: black;background-color: white;}#sk-container-id-12 pre{padding: 0;}#sk-container-id-12 div.sk-toggleable {background-color: white;}#sk-container-id-12 label.sk-toggleable__label {cursor: pointer;display: block;width: 100%;margin-bottom: 0;padding: 0.3em;box-sizing: border-box;text-align: center;}#sk-container-id-12 label.sk-toggleable__label-arrow:before {content: \"▸\";float: left;margin-right: 0.25em;color: #696969;}#sk-container-id-12 label.sk-toggleable__label-arrow:hover:before {color: black;}#sk-container-id-12 div.sk-estimator:hover label.sk-toggleable__label-arrow:before {color: black;}#sk-container-id-12 div.sk-toggleable__content {max-height: 0;max-width: 0;overflow: hidden;text-align: left;background-color: #f0f8ff;}#sk-container-id-12 div.sk-toggleable__content pre {margin: 0.2em;color: black;border-radius: 0.25em;background-color: #f0f8ff;}#sk-container-id-12 input.sk-toggleable__control:checked~div.sk-toggleable__content {max-height: 200px;max-width: 100%;overflow: auto;}#sk-container-id-12 input.sk-toggleable__control:checked~label.sk-toggleable__label-arrow:before {content: \"▾\";}#sk-container-id-12 div.sk-estimator input.sk-toggleable__control:checked~label.sk-toggleable__label {background-color: #d4ebff;}#sk-container-id-12 div.sk-label input.sk-toggleable__control:checked~label.sk-toggleable__label {background-color: #d4ebff;}#sk-container-id-12 input.sk-hidden--visually {border: 0;clip: rect(1px 1px 1px 1px);clip: rect(1px, 1px, 1px, 1px);height: 1px;margin: -1px;overflow: hidden;padding: 0;position: absolute;width: 1px;}#sk-container-id-12 div.sk-estimator {font-family: monospace;background-color: #f0f8ff;border: 1px dotted black;border-radius: 0.25em;box-sizing: border-box;margin-bottom: 0.5em;}#sk-container-id-12 div.sk-estimator:hover {background-color: #d4ebff;}#sk-container-id-12 div.sk-parallel-item::after {content: \"\";width: 100%;border-bottom: 1px solid gray;flex-grow: 1;}#sk-container-id-12 div.sk-label:hover label.sk-toggleable__label {background-color: #d4ebff;}#sk-container-id-12 div.sk-serial::before {content: \"\";position: absolute;border-left: 1px solid gray;box-sizing: border-box;top: 0;bottom: 0;left: 50%;z-index: 0;}#sk-container-id-12 div.sk-serial {display: flex;flex-direction: column;align-items: center;background-color: white;padding-right: 0.2em;padding-left: 0.2em;position: relative;}#sk-container-id-12 div.sk-item {position: relative;z-index: 1;}#sk-container-id-12 div.sk-parallel {display: flex;align-items: stretch;justify-content: center;background-color: white;position: relative;}#sk-container-id-12 div.sk-item::before, #sk-container-id-12 div.sk-parallel-item::before {content: \"\";position: absolute;border-left: 1px solid gray;box-sizing: border-box;top: 0;bottom: 0;left: 50%;z-index: -1;}#sk-container-id-12 div.sk-parallel-item {display: flex;flex-direction: column;z-index: 1;position: relative;background-color: white;}#sk-container-id-12 div.sk-parallel-item:first-child::after {align-self: flex-end;width: 50%;}#sk-container-id-12 div.sk-parallel-item:last-child::after {align-self: flex-start;width: 50%;}#sk-container-id-12 div.sk-parallel-item:only-child::after {width: 0;}#sk-container-id-12 div.sk-dashed-wrapped {border: 1px dashed gray;margin: 0 0.4em 0.5em 0.4em;box-sizing: border-box;padding-bottom: 0.4em;background-color: white;}#sk-container-id-12 div.sk-label label {font-family: monospace;font-weight: bold;display: inline-block;line-height: 1.2em;}#sk-container-id-12 div.sk-label-container {text-align: center;}#sk-container-id-12 div.sk-container {/* jupyter's `normalize.less` sets `[hidden] { display: none; }` but bootstrap.min.css set `[hidden] { display: none !important; }` so we also need the `!important` here to be able to override the default hidden behavior on the sphinx rendered scikit-learn.org. See: https://github.com/scikit-learn/scikit-learn/issues/21755 */display: inline-block !important;position: relative;}#sk-container-id-12 div.sk-text-repr-fallback {display: none;}</style><div id=\"sk-container-id-12\" class=\"sk-top-container\"><div class=\"sk-text-repr-fallback\"><pre>LinearRegression()</pre><b>In a Jupyter environment, please rerun this cell to show the HTML representation or trust the notebook. <br />On GitHub, the HTML representation is unable to render, please try loading this page with nbviewer.org.</b></div><div class=\"sk-container\" hidden><div class=\"sk-item\"><div class=\"sk-estimator sk-toggleable\"><input class=\"sk-toggleable__control sk-hidden--visually\" id=\"sk-estimator-id-12\" type=\"checkbox\" checked><label for=\"sk-estimator-id-12\" class=\"sk-toggleable__label sk-toggleable__label-arrow\">LinearRegression</label><div class=\"sk-toggleable__content\"><pre>LinearRegression()</pre></div></div></div></div></div>"
      ],
      "text/plain": [
       "LinearRegression()"
      ]
     },
     "execution_count": 438,
     "metadata": {},
     "output_type": "execute_result"
    }
   ],
   "source": [
    "model.fit(x_train,y_train)"
   ]
  },
  {
   "cell_type": "code",
   "execution_count": 439,
   "metadata": {},
   "outputs": [],
   "source": [
    "# birth_rate fitted and birth_rate prediction\n",
    "y_fitted = model.predict(x_train)\n",
    "y_predict = model.predict(x_test)"
   ]
  },
  {
   "cell_type": "code",
   "execution_count": 440,
   "metadata": {},
   "outputs": [],
   "source": [
    "# residuals from train & test\n",
    "residuals_train = y_train - y_fitted\n",
    "residuals_test = y_test - y_predict"
   ]
  },
  {
   "cell_type": "code",
   "execution_count": 441,
   "metadata": {},
   "outputs": [
    {
     "data": {
      "text/plain": [
       "array([-1.11990246e-07,  3.26399484e-01, -1.32998780e-01, -1.31869959e+00,\n",
       "       -7.59727018e-02,  6.72322161e-04, -6.88676391e-02, -1.42689083e-01,\n",
       "       -1.04456067e-02])"
      ]
     },
     "execution_count": 441,
     "metadata": {},
     "output_type": "execute_result"
    }
   ],
   "source": [
    "# Coefficients\n",
    "coef_gdp = model.coef_[0]\n",
    "coef_happiness_index = model.coef_[1]\n",
    "coef_social_support = model.coef_[2]\n",
    "coef_life_expectancy = model.coef_[3]\n",
    "coef_freedom = model.coef_[4]\n",
    "coef_generosity = model.coef_[5]\n",
    "coef_corruption = model.coef_[6]\n",
    "coef_unemployment = model.coef_[7]\n",
    "coef_inflation = model.coef_[8]\n",
    "intercept = model.intercept_\n",
    "model.coef_"
   ]
  },
  {
   "cell_type": "code",
   "execution_count": 442,
   "metadata": {},
   "outputs": [
    {
     "name": "stdout",
     "output_type": "stream",
     "text": [
      "model = 125.621676 + -0.000000 GDP 0.326399 Happiness index  -0.132999 Social support -1.318700 life expectancy  -0.075973 freedom  0.000672 generosity  -0.068868 corruption  -0.142689 Unemployment -0.010446 Inflation\n"
     ]
    }
   ],
   "source": [
    "print('model = %f + %f GDP %f Happiness index  %f Social support %f life expectancy  %f freedom  %f generosity  %f corruption  %f Unemployment %f Inflation' % (intercept, coef_gdp, coef_happiness_index, coef_social_support, coef_life_expectancy, coef_freedom, coef_generosity, coef_corruption, coef_unemployment, coef_inflation))"
   ]
  },
  {
   "cell_type": "code",
   "execution_count": 443,
   "metadata": {},
   "outputs": [],
   "source": [
    "stats_model = sm.OLS(y_train, x_train).fit()"
   ]
  },
  {
   "attachments": {},
   "cell_type": "markdown",
   "metadata": {},
   "source": [
    "## Model & Predictors Evaluation"
   ]
  },
  {
   "cell_type": "code",
   "execution_count": 470,
   "metadata": {},
   "outputs": [],
   "source": [
    "def model_significance(y_train_set, y_pred, p):\n",
    "    y_mean = np.mean(y_train_set)\n",
    "    tss = ((y_train_set - y_mean)**2).sum()\n",
    "    rss = ((y_train_set - y_pred)**2).sum()\n",
    "    n = len(y_train_set)\n",
    "    f_test = (tss-rss)/(rss/(n-p-1))\n",
    "    print(f_test)\n",
    "    if f_test > 1:\n",
    "        print(\"Reject Ho. At least one of the model coefficients is significant.\")\n",
    "    if f_test <=1: \n",
    "        print(\"Accept Ho. No coefficients are useful.\")\n",
    "\n",
    "\n",
    "def coefficient_testing(coeff, residuals, trainset,p):\n",
    "    \"\"\"Perform Hypothesis testing to determine if Coefficient in regression is significant\"\"\"\n",
    "    # Obtain the residual standard deviation\n",
    "    residual_variance = np.var(residuals)\n",
    "    x_mean = np.mean(trainset)\n",
    "    x_squared = ((trainset - x_mean)**2).sum()\n",
    "    coeff_var = residual_variance/ x_squared\n",
    "    coeff_std = np.sqrt(coeff_var)\n",
    "    print(\"coeff_var, std:\",coeff_var, coeff_std)\n",
    "    # Obtain t test\n",
    "    print(\"Hypothesis: Ho: B1 = 0, Ha: B1 !=0\")\n",
    "    t_value = coeff/coeff_std\n",
    "    print(\"t_value:\", t_value)\n",
    "    degree_of_freedom = len(trainset) - p -1\n",
    "    p_value = stats.t.sf(abs(t_value), degree_of_freedom)*2\n",
    "    print (\"p_value: %.24f\" % p_value)\n",
    "    # Conclusion:\n",
    "    if p_value < 0.05:\n",
    "        print('Reject Ho. The coefficient is significant, and has a relationship with the respond variable')\n",
    "    if p_value > 0.05: \n",
    "        print('Accept Ho. The coefficient is not significant, and does not have a relationship with respond variable')\n",
    "    return None\n",
    "\n",
    "\n",
    "def residual_zero_mean(residuals,p):\n",
    "    n = len(residuals)\n",
    "    residual_mean = np.mean(residuals)\n",
    "    residual_std = np.std(residuals)\n",
    "    t_test = (residual_mean)/(residual_std/np.sqrt(n))\n",
    "    p_value = stats.t.sf(t_test, n - p - 1)\n",
    "    if p_value > 0.05:\n",
    "        print(\"As the p_value is larger than 0.05, there is no sufficient evidence to reject Ho. From this, residuals mean is equal to 0. Linear regression assumption on residuals is appropriate.\")\n",
    "    elif p_value <= 0.05: \n",
    "        print(\"As p_value is smaller than 0.95, there is sufficient evidence to reject Ho. Thus zero mean assumption is not appropriate.\")\n",
    "\n",
    "def tss_rss(y_train, y_pred):\n",
    "    y_mean = np.mean(y_train)\n",
    "    tss = ((y_train - y_mean)**2).sum()\n",
    "    rss = ((y_train - y_pred)**2).sum()\n",
    "    n = len(y_train)\n",
    "    return tss, rss\n",
    "\n",
    "def autocorrelation(residuals):\n",
    "    print(\"Ho: There is no correlation among residuals\")\n",
    "    print(\"Ha: There is correlation between residuals\")\n",
    "    test = durbin_watson(residuals)\n",
    "    print(test)\n",
    "    if test>= 0 and test <= 1.5: \n",
    "        print(\"Reject Ho. There is sufficient evidence indicating a positive correlation in the residuals.\")\n",
    "    elif test > 1.5 and test <= 2.5:\n",
    "        print(\"Do not reject Ho. There is no correlation among residuals.\")\n",
    "    elif test > 2.5:\n",
    "        print(\"Reject Ho. There is sufficient evidence indicating a negative correlation in the residuals\")\n",
    "        \n",
    "def normal_distribution(residuals):\n",
    "    print(\"Ho: The residuals are normally distributed.\")\n",
    "    print(\"Ha: The residuals are not normally distributed.\")\n",
    "    k, p_value = stats.normaltest(residuals)\n",
    "    print(p_value)\n",
    "    if p_value < 0.05:\n",
    "        print(\"Reject Ho. The residuals are not normally distributed.\")\n",
    "    elif p_value > 0.05:\n",
    "        print(\"Do not have sufficient evidence to reject Ho. The residuals are normally distributed.\")"
   ]
  },
  {
   "attachments": {},
   "cell_type": "markdown",
   "metadata": {},
   "source": [
    "### Model Evaluation"
   ]
  },
  {
   "cell_type": "code",
   "execution_count": 445,
   "metadata": {},
   "outputs": [
    {
     "name": "stdout",
     "output_type": "stream",
     "text": [
      "294.04753865809056\n",
      "Reject Ho. At least one of the model coefficients is significant.\n"
     ]
    }
   ],
   "source": [
    "# Model evaluation - F test\n",
    "model_significance(y_train, y_fitted, 8)"
   ]
  },
  {
   "attachments": {},
   "cell_type": "markdown",
   "metadata": {},
   "source": [
    "### Coefficient evaluation\n"
   ]
  },
  {
   "cell_type": "code",
   "execution_count": 446,
   "metadata": {},
   "outputs": [
    {
     "name": "stdout",
     "output_type": "stream",
     "text": [
      "coeff_var, std: 4.861391921335594e-14 2.204856440073955e-07\n",
      "Hypothesis: Ho: B1 = 0, Ha: B1 !=0\n",
      "t_value: -0.5079253416388612\n",
      "p_value: 0.612776497573339629099110\n",
      "Accept Ho. The coefficient is not significant, and does not have a relationship with respond variable\n"
     ]
    }
   ],
   "source": [
    "# GDP coefficient\n",
    "coefficient_testing(coef_gdp, residuals_train, x_train['gdpPerCapita'],8)"
   ]
  },
  {
   "cell_type": "code",
   "execution_count": 447,
   "metadata": {},
   "outputs": [
    {
     "name": "stdout",
     "output_type": "stream",
     "text": [
      "coeff_var, std: 0.16680460080512557 0.4084171896543112\n",
      "Hypothesis: Ho: B1 = 0, Ha: B1 !=0\n",
      "t_value: 0.7991815521807322\n",
      "p_value: 0.426336971500504313681290\n",
      "Accept Ho. The coefficient is not significant, and does not have a relationship with respond variable\n"
     ]
    }
   ],
   "source": [
    "# Happiness index\n",
    "coefficient_testing(coef_happiness_index, residuals_train, x_train['Ladder score'], 8)"
   ]
  },
  {
   "cell_type": "code",
   "execution_count": 448,
   "metadata": {},
   "outputs": [
    {
     "name": "stdout",
     "output_type": "stream",
     "text": [
      "coeff_var, std: 0.0012880082590004712 0.03588883195369377\n",
      "Hypothesis: Ho: B1 = 0, Ha: B1 !=0\n",
      "t_value: -3.7058542310830895\n",
      "p_value: 0.000367578046188066849716\n",
      "Reject Ho. The coefficient is significant, and has a relationship with the respond variable\n"
     ]
    }
   ],
   "source": [
    "# Social support\n",
    "coefficient_testing(coef_social_support, residuals_train, x_train['Social support'],8)"
   ]
  },
  {
   "cell_type": "code",
   "execution_count": 449,
   "metadata": {},
   "outputs": [
    {
     "name": "stdout",
     "output_type": "stream",
     "text": [
      "coeff_var, std: 0.0074434207536570466 0.08627526153919816\n",
      "Hypothesis: Ho: B1 = 0, Ha: B1 !=0\n",
      "t_value: -15.284793866775146\n",
      "p_value: 0.000000000000000000000000\n",
      "Reject Ho. The coefficient is significant, and has a relationship with the respond variable\n"
     ]
    }
   ],
   "source": [
    "# Healthy life expectancy\n",
    "coefficient_testing(coef_life_expectancy, residuals_train, x_train['Healthy life expectancy'], 8)"
   ]
  },
  {
   "cell_type": "code",
   "execution_count": 450,
   "metadata": {},
   "outputs": [
    {
     "name": "stdout",
     "output_type": "stream",
     "text": [
      "coeff_var, std: 0.0018290345690724196 0.04276721371649572\n",
      "Hypothesis: Ho: B1 = 0, Ha: B1 !=0\n",
      "t_value: -1.776423927985949\n",
      "p_value: 0.079119146986904975715760\n",
      "Accept Ho. The coefficient is not significant, and does not have a relationship with respond variable\n"
     ]
    }
   ],
   "source": [
    "# Freedom to make life choices\n",
    "coefficient_testing(coef_freedom, residuals_train, x_train['Freedom to make life choices'], 8)\n"
   ]
  },
  {
   "cell_type": "code",
   "execution_count": 451,
   "metadata": {},
   "outputs": [
    {
     "name": "stdout",
     "output_type": "stream",
     "text": [
      "coeff_var, std: 0.0011016659028407995 0.03319135283233872\n",
      "Hypothesis: Ho: B1 = 0, Ha: B1 !=0\n",
      "t_value: 0.020255943314174785\n",
      "p_value: 0.983885058454414540562993\n",
      "Accept Ho. The coefficient is not significant, and does not have a relationship with respond variable\n"
     ]
    }
   ],
   "source": [
    "# Generosity\n",
    "coefficient_testing(coef_generosity, residuals_train, x_train['Generosity'], 8)"
   ]
  },
  {
   "cell_type": "code",
   "execution_count": 452,
   "metadata": {},
   "outputs": [
    {
     "name": "stdout",
     "output_type": "stream",
     "text": [
      "coeff_var, std: 0.0008218958460063251 0.028668725922271557\n",
      "Hypothesis: Ho: B1 = 0, Ha: B1 !=0\n",
      "t_value: -2.402186942507012\n",
      "p_value: 0.018399662383815695160250\n",
      "Reject Ho. The coefficient is significant, and has a relationship with the respond variable\n"
     ]
    }
   ],
   "source": [
    "# Perceptions of corruption\n",
    "coefficient_testing(coef_corruption, residuals_train, x_train['Perceptions of corruption'], 8)"
   ]
  },
  {
   "cell_type": "code",
   "execution_count": 453,
   "metadata": {},
   "outputs": [
    {
     "name": "stdout",
     "output_type": "stream",
     "text": [
      "coeff_var, std: 0.007443528526169679 0.08627588612219338\n",
      "Hypothesis: Ho: B1 = 0, Ha: B1 !=0\n",
      "t_value: -1.6538698002962502\n",
      "p_value: 0.101716983890146647762087\n",
      "Accept Ho. The coefficient is not significant, and does not have a relationship with respond variable\n"
     ]
    }
   ],
   "source": [
    "# Unemployment rate: rateWb\n",
    "coefficient_testing(coef_unemployment, residuals_train, x_train['rateWb'], 8)"
   ]
  },
  {
   "cell_type": "code",
   "execution_count": 454,
   "metadata": {},
   "outputs": [
    {
     "name": "stdout",
     "output_type": "stream",
     "text": [
      "coeff_var, std: 0.0001528094554187949 0.012361612169081949\n",
      "Hypothesis: Ho: B1 = 0, Ha: B1 !=0\n",
      "t_value: -0.8450035923922993\n",
      "p_value: 0.400400408352232783926183\n",
      "Accept Ho. The coefficient is not significant, and does not have a relationship with respond variable\n"
     ]
    }
   ],
   "source": [
    "# Inflation rate\n",
    "coefficient_testing(coef_inflation, residuals_train, x_train['inflation'],8)"
   ]
  },
  {
   "attachments": {},
   "cell_type": "markdown",
   "metadata": {},
   "source": [
    "## Accuracy Evaluation"
   ]
  },
  {
   "attachments": {},
   "cell_type": "markdown",
   "metadata": {},
   "source": [
    "#### Train set"
   ]
  },
  {
   "cell_type": "code",
   "execution_count": 455,
   "metadata": {},
   "outputs": [],
   "source": [
    "tss_train, rss_train = tss_rss(y_train, y_fitted)"
   ]
  },
  {
   "cell_type": "code",
   "execution_count": 456,
   "metadata": {},
   "outputs": [],
   "source": [
    "n_train = len(y_train)\n",
    "rse_train = np.sqrt(rss_train/(n_train-8-1))\n",
    "r_squared_train = (tss_train-rss_train)/tss_train"
   ]
  },
  {
   "cell_type": "code",
   "execution_count": 457,
   "metadata": {},
   "outputs": [
    {
     "name": "stdout",
     "output_type": "stream",
     "text": [
      "RSE: 4.979519888448681\n",
      "R-squared: 0.7696621726471723\n"
     ]
    }
   ],
   "source": [
    "print(\"RSE:\", rse_train)\n",
    "print(\"R-squared:\", r_squared_train)"
   ]
  },
  {
   "attachments": {},
   "cell_type": "markdown",
   "metadata": {},
   "source": [
    "#### Test set"
   ]
  },
  {
   "cell_type": "code",
   "execution_count": 458,
   "metadata": {},
   "outputs": [],
   "source": [
    "tss_test, rss_test = tss_rss(y_test, y_predict)\n",
    "n_test = len(y_test)\n",
    "rse_test = np.sqrt(rss_test/(n_test - 8-1))\n",
    "r_squared_test = (tss_test-rss_test)/tss_test"
   ]
  },
  {
   "cell_type": "code",
   "execution_count": 459,
   "metadata": {},
   "outputs": [
    {
     "name": "stdout",
     "output_type": "stream",
     "text": [
      "RSE: 5.008244176935813\n",
      "R-squared: 0.8295082774298256\n"
     ]
    }
   ],
   "source": [
    "print(\"RSE:\", rse_test)\n",
    "print(\"R-squared:\", r_squared_test)"
   ]
  },
  {
   "attachments": {},
   "cell_type": "markdown",
   "metadata": {},
   "source": [
    "## Residuals Evaluation"
   ]
  },
  {
   "attachments": {},
   "cell_type": "markdown",
   "metadata": {},
   "source": [
    "Residuals will be assessed for the following factors: \n",
    "- Mean of zero\n",
    "- Normally distributed\n",
    "- Constant variance\n",
    "- Autocorrelation check"
   ]
  },
  {
   "cell_type": "code",
   "execution_count": 460,
   "metadata": {},
   "outputs": [
    {
     "name": "stdout",
     "output_type": "stream",
     "text": [
      "As p_value is smaller than 0.95, there is sufficient evidence to reject Ho. Thus zero mean assumption is not appropriate.\n"
     ]
    }
   ],
   "source": [
    "# Test residuals mean of zero\n",
    "residual_zero_mean(residuals_test, 8)"
   ]
  },
  {
   "cell_type": "code",
   "execution_count": 471,
   "metadata": {},
   "outputs": [
    {
     "name": "stdout",
     "output_type": "stream",
     "text": [
      "Ho: The residuals are normally distributed.\n",
      "Ha: The residuals are not normally distributed.\n",
      "0.5486060075278344\n",
      "Do not have sufficient evidence to reject Ho. The residuals are normally distributed.\n"
     ]
    },
    {
     "data": {
      "image/png": "[encoded data removed]",
      "text/plain": [
       "<Figure size 640x480 with 1 Axes>"
      ]
     },
     "metadata": {},
     "output_type": "display_data"
    }
   ],
   "source": [
    "# Test for Normal distribution\n",
    "plt.hist(residuals_test, bins=20)\n",
    "\n",
    "normal_distribution(residuals_test)"
   ]
  },
  {
   "cell_type": "code",
   "execution_count": 462,
   "metadata": {},
   "outputs": [
    {
     "data": {
      "text/plain": [
       "<matplotlib.collections.PathCollection at 0x129a60f50>"
      ]
     },
     "execution_count": 462,
     "metadata": {},
     "output_type": "execute_result"
    },
    {
     "data": {
      "image/png": "[encoded data removed]",
      "text/plain": [
       "<Figure size 640x480 with 1 Axes>"
      ]
     },
     "metadata": {},
     "output_type": "display_data"
    }
   ],
   "source": [
    "# Test for constant variance\n",
    "plt.scatter(y_test, residuals_test)"
   ]
  },
  {
   "cell_type": "code",
   "execution_count": 464,
   "metadata": {},
   "outputs": [
    {
     "name": "stdout",
     "output_type": "stream",
     "text": [
      "Ho: There is no correlation among residuals\n",
      "Ha: There is correlation between residuals\n",
      "1.770929396922798\n",
      "Do not reject Ho. There is no correlation among residuals.\n"
     ]
    }
   ],
   "source": [
    "# Autocorrelation check\n",
    "autocorrelation(residuals_test)\n",
    "\n"
   ]
  }
 ],
 "metadata": {
  "kernelspec": {
   "display_name": "global-birth-rate-analysis",
   "language": "python",
   "name": "python3"
  },
  "language_info": {
   "codemirror_mode": {
    "name": "ipython",
    "version": 3
   },
   "file_extension": ".py",
   "mimetype": "text/x-python",
   "name": "python",
   "nbconvert_exporter": "python",
   "pygments_lexer": "ipython3",
   "version": "3.11.3"
  },
  "orig_nbformat": 4
 },
 "nbformat": 4,
 "nbformat_minor": 2
}
